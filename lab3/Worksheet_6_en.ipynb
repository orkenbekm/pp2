{
 "cells": [
  {
   "cell_type": "markdown",
   "metadata": {},
   "source": [
    "# Check and find all the errors in the lines of the code below and correct them.\n",
    "\n",
    "\n",
    "Please be careful, there are not only syntactic errors, but also implementation errors. To fix errors associated with implementations, carefully check ** the expected results. **\n",
    "\n",
    "Some of the code blocks contain more than one error, keep this in mind.\n",
    "Run each code block, view errors (or the difference with the expected results) and correct them (one after another).\n",
    "\n",
    "\n",
    "** Pay attention: do not rewrite the code, just correct errors and the codes will work. **"
   ]
  },
  {
   "cell_type": "code",
   "execution_count": null,
   "metadata": {},
   "outputs": [],
   "source": [
    "text = \"apple banana apple orange banana apple\"\n",
    "words = text.split()\n",
    "\n",
    "word_count = {}\n",
    "for word in words:\n",
    "    word_count[word] = word_count.get(word, 0) + 1\n",
    "\n",
    "print(word_count)  # {'apple': 3, 'banana': 2, 'orange': 1}"
   ]
  },
  {
   "cell_type": "code",
   "execution_count": 3,
   "metadata": {},
   "outputs": [
    {
     "ename": "TypeError",
     "evalue": "can only concatenate list (not \"str\") to list",
     "output_type": "error",
     "traceback": [
      "\u001b[1;31m---------------------------------------------------------------------------\u001b[0m",
      "\u001b[1;31mTypeError\u001b[0m                                 Traceback (most recent call last)",
      "Cell \u001b[1;32mIn[3], line 3\u001b[0m\n\u001b[0;32m      1\u001b[0m arr1 \u001b[38;5;241m=\u001b[39m [\u001b[38;5;124m\"\u001b[39m\u001b[38;5;124mHello\u001b[39m\u001b[38;5;124m\"\u001b[39m,\u001b[38;5;124m\"\u001b[39m\u001b[38;5;124mmy\u001b[39m\u001b[38;5;124m\"\u001b[39m,\u001b[38;5;124m\"\u001b[39m\u001b[38;5;124mname\u001b[39m\u001b[38;5;124m\"\u001b[39m,\u001b[38;5;124m\"\u001b[39m\u001b[38;5;124mis\u001b[39m\u001b[38;5;124m\"\u001b[39m]\n\u001b[0;32m      2\u001b[0m name \u001b[38;5;241m=\u001b[39m \u001b[38;5;124m\"\u001b[39m\u001b[38;5;124mBrad\u001b[39m\u001b[38;5;124m\"\u001b[39m\n\u001b[1;32m----> 3\u001b[0m arr1 \u001b[38;5;241m=\u001b[39m arr1 \u001b[38;5;241m+\u001b[39m name\n\u001b[0;32m      4\u001b[0m \u001b[38;5;28mprint\u001b[39m(\u001b[38;5;124m\"\u001b[39m\u001b[38;5;124m\"\u001b[39m\u001b[38;5;241m.\u001b[39mjoin(arr1))\n",
      "\u001b[1;31mTypeError\u001b[0m: can only concatenate list (not \"str\") to list"
     ]
    }
   ],
   "source": [
    "arr1 = [\"Hello\",\"my\",\"name\",\"is\"]\n",
    "name = \"Brad\"\n",
    "arr1 = arr1 + name\n",
    "print(\"\".join(arr1))"
   ]
  },
  {
   "cell_type": "code",
   "execution_count": 2,
   "metadata": {},
   "outputs": [
    {
     "name": "stdout",
     "output_type": "stream",
     "text": [
      "Hello my name is Brad\n"
     ]
    }
   ],
   "source": [
    "# correct\n",
    "arr1 = [\"Hello\", \"my\", \"name\", \"is\"]\n",
    "name = \"Brad\"\n",
    "arr1.append(name)\n",
    "print(\" \".join(arr1))"
   ]
  },
  {
   "cell_type": "markdown",
   "metadata": {},
   "source": [
    "### Expected result:\n",
    "```\n",
    "Hello my name is Brad\n",
    "```"
   ]
  },
  {
   "cell_type": "markdown",
   "metadata": {},
   "source": [
    "# ----------------------------------------------------------"
   ]
  },
  {
   "cell_type": "code",
   "execution_count": 4,
   "metadata": {},
   "outputs": [
    {
     "data": {
      "text/plain": [
       "'List is empty'"
      ]
     },
     "execution_count": 4,
     "metadata": {},
     "output_type": "execute_result"
    }
   ],
   "source": [
    "def findMaxMin(arr):\n",
    "    if len(arr):\n",
    "        return \"List is empty\"\n",
    "    maxNum = max(arr)\n",
    "    minNum = min(arr)\n",
    "\n",
    "arr2 = [100,-10,20,1,0]\n",
    "findMaxMin(arr2)"
   ]
  },
  {
   "cell_type": "code",
   "execution_count": 17,
   "metadata": {},
   "outputs": [
    {
     "name": "stdout",
     "output_type": "stream",
     "text": [
      "(100, -10)\n"
     ]
    }
   ],
   "source": [
    "# correct\n",
    "def findMaxMin(arr):\n",
    "    if not len(arr):\n",
    "        return \"List is empty\"\n",
    "    maxNum = max(arr)\n",
    "    minNum = min(arr)\n",
    "    return (maxNum, minNum)\n",
    "\n",
    "arr2 = [100, -10, 20, 1, 0]\n",
    "print(findMaxMin(arr2))"
   ]
  },
  {
   "cell_type": "markdown",
   "metadata": {},
   "source": [
    "### Expected result:\n",
    "```\n",
    "(100, -10)\n",
    "```"
   ]
  },
  {
   "cell_type": "markdown",
   "metadata": {},
   "source": [
    "# ----------------------------------------------------------"
   ]
  },
  {
   "cell_type": "code",
   "execution_count": 18,
   "metadata": {},
   "outputs": [
    {
     "ename": "TypeError",
     "evalue": "concatStrings() got an unexpected keyword argument 'name'",
     "output_type": "error",
     "traceback": [
      "\u001b[1;31m---------------------------------------------------------------------------\u001b[0m",
      "\u001b[1;31mTypeError\u001b[0m                                 Traceback (most recent call last)",
      "Cell \u001b[1;32mIn[18], line 7\u001b[0m\n\u001b[0;32m      4\u001b[0m     country \u001b[38;5;241m=\u001b[39m kwargs[\u001b[38;5;124m\"\u001b[39m\u001b[38;5;124mcountry\u001b[39m\u001b[38;5;124m\"\u001b[39m]\n\u001b[0;32m      5\u001b[0m     result \u001b[38;5;241m=\u001b[39m \u001b[38;5;124m\"\u001b[39m\u001b[38;5;124m \u001b[39m\u001b[38;5;124m\"\u001b[39m\u001b[38;5;241m.\u001b[39mjoin([name, family, country])\n\u001b[1;32m----> 7\u001b[0m \u001b[38;5;28mprint\u001b[39m(concatStrings(name\u001b[38;5;241m=\u001b[39m\u001b[38;5;124m\"\u001b[39m\u001b[38;5;124mBrad\u001b[39m\u001b[38;5;124m\"\u001b[39m, family\u001b[38;5;241m=\u001b[39m\u001b[38;5;124m\"\u001b[39m\u001b[38;5;124mPitt\u001b[39m\u001b[38;5;124m\"\u001b[39m, country\u001b[38;5;241m=\u001b[39m\u001b[38;5;124m\"\u001b[39m\u001b[38;5;124mUSA\u001b[39m\u001b[38;5;124m\"\u001b[39m))\n",
      "\u001b[1;31mTypeError\u001b[0m: concatStrings() got an unexpected keyword argument 'name'"
     ]
    }
   ],
   "source": [
    "def concatStrings(*kwargs):\n",
    "    name = kwargs[\"name\"]\n",
    "    familyName = kwargs[\"family\"]\n",
    "    country = kwargs[\"country\"]\n",
    "    result = \" \".join([name, family, country])\n",
    "\n",
    "print(concatStrings(name=\"Brad\", family=\"Pitt\", country=\"USA\"))"
   ]
  },
  {
   "cell_type": "code",
   "execution_count": 19,
   "metadata": {},
   "outputs": [
    {
     "name": "stdout",
     "output_type": "stream",
     "text": [
      "Brad Pitt USA\n"
     ]
    }
   ],
   "source": [
    "# correct\n",
    "def concatStrings(**kwargs):\n",
    "    name = kwargs[\"name\"]\n",
    "    familyName = kwargs[\"family\"]\n",
    "    country = kwargs[\"country\"]\n",
    "    result = \" \".join([name, familyName, country])\n",
    "    return result\n",
    "\n",
    "print(concatStrings(name=\"Brad\", family=\"Pitt\", country=\"USA\"))"
   ]
  },
  {
   "cell_type": "markdown",
   "metadata": {},
   "source": [
    "### Expected result:\n",
    "```\n",
    "Brad Pitt USA\n",
    "```"
   ]
  },
  {
   "cell_type": "markdown",
   "metadata": {},
   "source": [
    "# ----------------------------------------------------------"
   ]
  },
  {
   "cell_type": "code",
   "execution_count": 20,
   "metadata": {},
   "outputs": [
    {
     "ename": "TypeError",
     "evalue": "sliceList() takes 2 positional arguments but 4 were given",
     "output_type": "error",
     "traceback": [
      "\u001b[1;31m---------------------------------------------------------------------------\u001b[0m",
      "\u001b[1;31mTypeError\u001b[0m                                 Traceback (most recent call last)",
      "Cell \u001b[1;32mIn[20], line 7\u001b[0m\n\u001b[0;32m      4\u001b[0m     str_elem, end_elem, step_elem \u001b[38;5;241m=\u001b[39m args\n\u001b[0;32m      5\u001b[0m     \u001b[38;5;28;01mreturn\u001b[39;00m arr[str_elem,end_elem,step_elem]\n\u001b[1;32m----> 7\u001b[0m \u001b[38;5;28mprint\u001b[39m(sliceList(arr3,\u001b[38;5;241m2\u001b[39m,\u001b[38;5;241m4\u001b[39m,\u001b[38;5;241m1\u001b[39m))\n",
      "\u001b[1;31mTypeError\u001b[0m: sliceList() takes 2 positional arguments but 4 were given"
     ]
    }
   ],
   "source": [
    "arr3 = list(range(20))\n",
    "\n",
    "def sliceList(arr, args):\n",
    "    str_elem, end_elem, step_elem = args\n",
    "    return arr[str_elem,end_elem,step_elem]\n",
    "\n",
    "print(sliceList(arr3,2,4,1)) # Эта строка кода не содержит ошибок\n"
   ]
  },
  {
   "cell_type": "code",
   "execution_count": null,
   "metadata": {},
   "outputs": [],
   "source": [
    "# correct\n"
   ]
  },
  {
   "cell_type": "markdown",
   "metadata": {},
   "source": [
    "### Expected result:\n",
    "```\n",
    "[2, 3, 4]\n",
    "```"
   ]
  },
  {
   "cell_type": "markdown",
   "metadata": {},
   "source": [
    "# ----------------------------------------------------------"
   ]
  },
  {
   "cell_type": "code",
   "execution_count": 7,
   "metadata": {},
   "outputs": [
    {
     "name": "stdout",
     "output_type": "stream",
     "text": [
      "List is None\n"
     ]
    },
    {
     "ename": "UnboundLocalError",
     "evalue": "cannot access local variable 'ave' where it is not associated with a value",
     "output_type": "error",
     "traceback": [
      "\u001b[1;31m---------------------------------------------------------------------------\u001b[0m",
      "\u001b[1;31mUnboundLocalError\u001b[0m                         Traceback (most recent call last)",
      "Cell \u001b[1;32mIn[7], line 11\u001b[0m\n\u001b[0;32m      8\u001b[0m     \u001b[38;5;28;01mreturn\u001b[39;00m ave\n\u001b[0;32m     10\u001b[0m arr4 \u001b[38;5;241m=\u001b[39m \u001b[38;5;28mlist\u001b[39m(\u001b[38;5;28mrange\u001b[39m(\u001b[38;5;241m0\u001b[39m,\u001b[38;5;241m100\u001b[39m,\u001b[38;5;241m3\u001b[39m))\n\u001b[1;32m---> 11\u001b[0m \u001b[38;5;28mprint\u001b[39m(calcMean()) \n\u001b[0;32m     12\u001b[0m \u001b[38;5;28mprint\u001b[39m(calcMean(arr4))\n",
      "Cell \u001b[1;32mIn[7], line 8\u001b[0m, in \u001b[0;36mcalcMean\u001b[1;34m(arr)\u001b[0m\n\u001b[0;32m      6\u001b[0m     \u001b[38;5;28;01mfor\u001b[39;00m num \u001b[38;5;129;01min\u001b[39;00m arr:\n\u001b[0;32m      7\u001b[0m         ave \u001b[38;5;241m+\u001b[39m\u001b[38;5;241m=\u001b[39m num\u001b[38;5;241m/\u001b[39m\u001b[38;5;28mlen\u001b[39m(arr)\n\u001b[1;32m----> 8\u001b[0m \u001b[38;5;28;01mreturn\u001b[39;00m ave\n",
      "\u001b[1;31mUnboundLocalError\u001b[0m: cannot access local variable 'ave' where it is not associated with a value"
     ]
    }
   ],
   "source": [
    "def calcMean(arr=None):\n",
    "    if not arr:\n",
    "        print(\"List is None\")\n",
    "    else:\n",
    "        ave = 0\n",
    "        for num in arr:\n",
    "            ave += num/len(arr)\n",
    "    return ave\n",
    "\n",
    "arr4 = list(range(0,100,3))\n",
    "print(calcMean()) \n",
    "print(calcMean(arr4))"
   ]
  },
  {
   "cell_type": "code",
   "execution_count": 21,
   "metadata": {},
   "outputs": [
    {
     "name": "stdout",
     "output_type": "stream",
     "text": [
      "List is None\n",
      "49.49999999999999\n"
     ]
    }
   ],
   "source": [
    "# correct\n",
    "def calcMean(arr=None):\n",
    "    if arr is None:\n",
    "        return \"List is None\"\n",
    "    else:\n",
    "        ave = 0\n",
    "        for num in arr:\n",
    "            ave += num / len(arr)\n",
    "        return ave\n",
    "\n",
    "arr4 = list(range(0, 100, 3))\n",
    "print(calcMean())\n",
    "print(calcMean(arr4))"
   ]
  },
  {
   "cell_type": "markdown",
   "metadata": {},
   "source": [
    "### Expected result:\n",
    "```\n",
    "List is None\n",
    "49.49999999999999\n",
    "```"
   ]
  },
  {
   "cell_type": "markdown",
   "metadata": {},
   "source": [
    "# ----------------------------------------------------------"
   ]
  },
  {
   "cell_type": "code",
   "execution_count": 8,
   "metadata": {},
   "outputs": [
    {
     "ename": "TypeError",
     "evalue": "'list' object cannot be interpreted as an integer",
     "output_type": "error",
     "traceback": [
      "\u001b[1;31m---------------------------------------------------------------------------\u001b[0m",
      "\u001b[1;31mTypeError\u001b[0m                                 Traceback (most recent call last)",
      "Cell \u001b[1;32mIn[8], line 10\u001b[0m\n\u001b[0;32m      7\u001b[0m     \u001b[38;5;28;01mreturn\u001b[39;00m ans\n\u001b[0;32m      9\u001b[0m arr5 \u001b[38;5;241m=\u001b[39m \u001b[38;5;28mlist\u001b[39m(\u001b[38;5;28mrange\u001b[39m(\u001b[38;5;241m10\u001b[39m))\n\u001b[1;32m---> 10\u001b[0m \u001b[38;5;28mprint\u001b[39m(concatNumbers(arr5))\n",
      "Cell \u001b[1;32mIn[8], line 3\u001b[0m, in \u001b[0;36mconcatNumbers\u001b[1;34m(arr)\u001b[0m\n\u001b[0;32m      1\u001b[0m \u001b[38;5;28;01mdef\u001b[39;00m \u001b[38;5;21mconcatNumbers\u001b[39m(arr):\n\u001b[0;32m      2\u001b[0m     ans \u001b[38;5;241m=\u001b[39m \u001b[38;5;124m\"\u001b[39m\u001b[38;5;124m\"\u001b[39m\n\u001b[1;32m----> 3\u001b[0m     \u001b[38;5;28;01mfor\u001b[39;00m i \u001b[38;5;129;01min\u001b[39;00m \u001b[38;5;28mrange\u001b[39m(arr):\n\u001b[0;32m      4\u001b[0m         ans \u001b[38;5;241m+\u001b[39m\u001b[38;5;241m=\u001b[39m \u001b[38;5;28mstr\u001b[39m(arr[i])\n\u001b[0;32m      5\u001b[0m         \u001b[38;5;28;01mif\u001b[39;00m (i\u001b[38;5;241m+\u001b[39m\u001b[38;5;241m1\u001b[39m) \u001b[38;5;241m%\u001b[39m \u001b[38;5;241m4\u001b[39m \u001b[38;5;241m==\u001b[39m \u001b[38;5;241m0\u001b[39m:\n",
      "\u001b[1;31mTypeError\u001b[0m: 'list' object cannot be interpreted as an integer"
     ]
    }
   ],
   "source": [
    "def concatNumbers(arr):\n",
    "    ans = \"\"\n",
    "    for i in range(arr):\n",
    "        ans += str(arr[i])\n",
    "        if (i+1) % 4 == 0:\n",
    "            ans += \"\\n\"\n",
    "    return ans\n",
    "\n",
    "arr5 = list(range(10))\n",
    "print(concatNumbers(arr5))"
   ]
  },
  {
   "cell_type": "code",
   "execution_count": 22,
   "metadata": {},
   "outputs": [
    {
     "name": "stdout",
     "output_type": "stream",
     "text": [
      "0123\n",
      "4567\n",
      "89\n"
     ]
    }
   ],
   "source": [
    "# correct\n",
    "def concatNumbers(arr):\n",
    "    ans = \"\"\n",
    "    for i in range(len(arr)):\n",
    "        ans += str(arr[i])\n",
    "        if (i + 1) % 4 == 0:\n",
    "            ans += \"\\n\"\n",
    "    return ans\n",
    "\n",
    "arr5 = list(range(10))\n",
    "print(concatNumbers(arr5))"
   ]
  },
  {
   "cell_type": "markdown",
   "metadata": {},
   "source": [
    "### Expected result:\n",
    "```\n",
    "0123\n",
    "4567\n",
    "89\n",
    "```"
   ]
  },
  {
   "cell_type": "markdown",
   "metadata": {},
   "source": [
    "# ----------------------------------------------------------"
   ]
  },
  {
   "cell_type": "code",
   "execution_count": 9,
   "metadata": {},
   "outputs": [
    {
     "ename": "AttributeError",
     "evalue": "module 'os' has no attribute 'listdr'",
     "output_type": "error",
     "traceback": [
      "\u001b[1;31m---------------------------------------------------------------------------\u001b[0m",
      "\u001b[1;31mAttributeError\u001b[0m                            Traceback (most recent call last)",
      "Cell \u001b[1;32mIn[9], line 3\u001b[0m\n\u001b[0;32m      1\u001b[0m \u001b[38;5;28;01mimport\u001b[39;00m \u001b[38;5;21;01mos\u001b[39;00m\n\u001b[1;32m----> 3\u001b[0m listFiles \u001b[38;5;241m=\u001b[39m os\u001b[38;5;241m.\u001b[39mlistdr()\n\u001b[0;32m      5\u001b[0m \u001b[38;5;28mprint\u001b[39m(listFiles)\n",
      "\u001b[1;31mAttributeError\u001b[0m: module 'os' has no attribute 'listdr'"
     ]
    }
   ],
   "source": [
    "import os\n",
    "\n",
    "listFiles = os.listdr()\n",
    "\n",
    "print(listFiles)"
   ]
  },
  {
   "cell_type": "code",
   "execution_count": 23,
   "metadata": {},
   "outputs": [
    {
     "name": "stdout",
     "output_type": "stream",
     "text": [
      "['files', 'Worksheet_3_en.ipynb', 'Worksheet_4_en.ipynb', 'Worksheet_5_en.ipynb', 'Worksheet_6_en.ipynb']\n"
     ]
    }
   ],
   "source": [
    "# correct\n",
    "import os\n",
    "listFiles = os.listdir()\n",
    "print(listFiles)"
   ]
  },
  {
   "cell_type": "markdown",
   "metadata": {},
   "source": [
    "### Expected result:\n",
    "\n",
    "** List of all files in the current working folder. **\n",
    "\n",
    "Example:\n",
    "\n",
    "```\n",
    "['.DS_Store', '.ipynb_checkpoints', '.Worksheet6.ipynb.swp', 'annual-enterprise-survey-2018-financial-year-provisional-csv.csv', 'Basics-hw1-prob.ipynb', 'Basics-hw1-sol.ipynb', 'Basics-hw2-prob.ipynb', 'Basics-hw2-sol.ipynb', 'Basics-hw3-prob.ipynb', 'Basics-hw4-prob.ipynb', 'Basics-hw5-prob.ipynb', 'Basics-hw5-sol.ipynb', 'Basics-hw6-prob.ipynb', 'Basics-hw6-sol.ipynb', 'Basics-hw7-prob.ipynb', 'Basics-hw7-sol.ipynb', 'Basics-hw8-prob.ipynb', 'Basics-hw8-sol.ipynb', 'figures.csv', 'Files-hw1-prob.ipynb', 'Files-hw2-prob.ipynb', 'Files-hw2-sol.ipynb', 'FizzBuzz_prob.ipynb', 'FizzBuzz_sol.ipynb', 'Functions-hw1-prob.ipynb', 'Functions-hw1-sol.ipynb', 'Functions-hw2-prob.ipynb', 'Functions-hw2-sol.ipynb', 'Functions-hw3-prob.ipynb', 'Functions-hw3-sol.ipynb', 'Modules-hw1', 'Modules-hw2', 'OOP-hw1-prob.ipynb', 'OOP-hw1-sol.ipynb', 'OOP-hw2-prob.ipynb', 'OOP-hw2-sol.ipynb', 'OOP-hw3-prob.ipynb', 'OOP-hw3-sol.ipynb', 'OOP-hw4-prob.ipynb', 'OOP-hw4-sol.ipynb', 'OOP-hw5-prob.ipynb', 'OOP-hw5-sol.ipynb', 'OOP-hw6-prob.ipynb', 'OOP-hw6-sol.ipynb', 'OOP-hw7-prob.ipynb', 'OOP-hw7-sol.ipynb', 'README.md', 'Worksheet0.ipynb', 'Worksheet1.ipynb', 'Worksheet2.ipynb', 'Worksheet3.ipynb', 'Worksheet4.ipynb', 'Worksheet5.ipynb', 'Worksheet6.ipynb']\n",
    "```"
   ]
  },
  {
   "cell_type": "markdown",
   "metadata": {},
   "source": [
    "# ----------------------------------------------------------"
   ]
  },
  {
   "cell_type": "code",
   "execution_count": 10,
   "metadata": {},
   "outputs": [
    {
     "ename": "FileNotFoundError",
     "evalue": "[Errno 2] No such file or directory: './filesfile_with_metaphor.txt'",
     "output_type": "error",
     "traceback": [
      "\u001b[1;31m---------------------------------------------------------------------------\u001b[0m",
      "\u001b[1;31mFileNotFoundError\u001b[0m                         Traceback (most recent call last)",
      "Cell \u001b[1;32mIn[10], line 9\u001b[0m\n\u001b[0;32m      6\u001b[0m \u001b[38;5;28;01mif\u001b[39;00m \u001b[38;5;129;01mnot\u001b[39;00m directoryExists:\n\u001b[0;32m      7\u001b[0m     os\u001b[38;5;241m.\u001b[39mmkdir(direc)\n\u001b[1;32m----> 9\u001b[0m \u001b[38;5;28;01mwith\u001b[39;00m \u001b[38;5;28mopen\u001b[39m(direc \u001b[38;5;241m+\u001b[39m \u001b[38;5;124m\"\u001b[39m\u001b[38;5;124mfile_with_metaphor.txt\u001b[39m\u001b[38;5;124m\"\u001b[39m) \u001b[38;5;28;01mas\u001b[39;00m output:\n\u001b[0;32m     10\u001b[0m     output\u001b[38;5;241m.\u001b[39mwrite(text)\n\u001b[0;32m     12\u001b[0m \u001b[38;5;28;01mwith\u001b[39;00m \u001b[38;5;28mopen\u001b[39m(direc \u001b[38;5;241m+\u001b[39m \u001b[38;5;124m\"\u001b[39m\u001b[38;5;124m/file_with_metaphor.txt\u001b[39m\u001b[38;5;124m\"\u001b[39m, \u001b[38;5;124m\"\u001b[39m\u001b[38;5;124mr\u001b[39m\u001b[38;5;124m\"\u001b[39m) \u001b[38;5;28;01mas\u001b[39;00m file:\n",
      "File \u001b[1;32mc:\\Anaconda\\Lib\\site-packages\\IPython\\core\\interactiveshell.py:324\u001b[0m, in \u001b[0;36m_modified_open\u001b[1;34m(file, *args, **kwargs)\u001b[0m\n\u001b[0;32m    317\u001b[0m \u001b[38;5;28;01mif\u001b[39;00m file \u001b[38;5;129;01min\u001b[39;00m {\u001b[38;5;241m0\u001b[39m, \u001b[38;5;241m1\u001b[39m, \u001b[38;5;241m2\u001b[39m}:\n\u001b[0;32m    318\u001b[0m     \u001b[38;5;28;01mraise\u001b[39;00m \u001b[38;5;167;01mValueError\u001b[39;00m(\n\u001b[0;32m    319\u001b[0m         \u001b[38;5;124mf\u001b[39m\u001b[38;5;124m\"\u001b[39m\u001b[38;5;124mIPython won\u001b[39m\u001b[38;5;124m'\u001b[39m\u001b[38;5;124mt let you open fd=\u001b[39m\u001b[38;5;132;01m{\u001b[39;00mfile\u001b[38;5;132;01m}\u001b[39;00m\u001b[38;5;124m by default \u001b[39m\u001b[38;5;124m\"\u001b[39m\n\u001b[0;32m    320\u001b[0m         \u001b[38;5;124m\"\u001b[39m\u001b[38;5;124mas it is likely to crash IPython. If you know what you are doing, \u001b[39m\u001b[38;5;124m\"\u001b[39m\n\u001b[0;32m    321\u001b[0m         \u001b[38;5;124m\"\u001b[39m\u001b[38;5;124myou can use builtins\u001b[39m\u001b[38;5;124m'\u001b[39m\u001b[38;5;124m open.\u001b[39m\u001b[38;5;124m\"\u001b[39m\n\u001b[0;32m    322\u001b[0m     )\n\u001b[1;32m--> 324\u001b[0m \u001b[38;5;28;01mreturn\u001b[39;00m io_open(file, \u001b[38;5;241m*\u001b[39margs, \u001b[38;5;241m*\u001b[39m\u001b[38;5;241m*\u001b[39mkwargs)\n",
      "\u001b[1;31mFileNotFoundError\u001b[0m: [Errno 2] No such file or directory: './filesfile_with_metaphor.txt'"
     ]
    }
   ],
   "source": [
    "direc = \"./files\"\n",
    "directoryExists = os.path.exists(direc)\n",
    "\n",
    "text = 'Metaphor: \"Kill two birds in one stone\"'\n",
    "\n",
    "if not directoryExists:\n",
    "    os.mkdir(direc)\n",
    "    \n",
    "with open(direc + \"file_with_metaphor.txt\") as output:\n",
    "    output.write(text)\n",
    "    \n",
    "with open(direc + \"/file_with_metaphor.txt\", \"r\") as file:\n",
    "    text = file.read()\n",
    "    print(text)\n",
    "\n",
    "print(os.listdir(direc))"
   ]
  },
  {
   "cell_type": "code",
   "execution_count": 24,
   "metadata": {},
   "outputs": [
    {
     "name": "stdout",
     "output_type": "stream",
     "text": [
      "Metaphor: \"Kill two birds in one stone\"\n",
      "['file_with_metaphor.txt']\n"
     ]
    }
   ],
   "source": [
    "# correct\n",
    "direc = \"./files\"\n",
    "directoryExists = os.path.exists(direc)\n",
    "text = 'Metaphor: \"Kill two birds in one stone\"'\n",
    "if not directoryExists:\n",
    "    os.mkdir(direc)\n",
    "with open(direc + \"/file_with_metaphor.txt\", \"w\") as output:\n",
    "    output.write(text)\n",
    "with open(direc + \"/file_with_metaphor.txt\", \"r\") as file:\n",
    "    text = file.read()\n",
    "print(text)\n",
    "print(os.listdir(direc))\n"
   ]
  },
  {
   "cell_type": "markdown",
   "metadata": {},
   "source": [
    "### Expected result:\n",
    "```\n",
    "Metaphor: \"Kill two birds in one stone\"\n",
    "['file_with_metaphor.txt']\n",
    "```"
   ]
  },
  {
   "cell_type": "markdown",
   "metadata": {},
   "source": [
    "# ----------------------------------------------------------"
   ]
  },
  {
   "cell_type": "code",
   "execution_count": 11,
   "metadata": {},
   "outputs": [
    {
     "ename": "TypeError",
     "evalue": "Animal.__init__() got an unexpected keyword argument 'name'",
     "output_type": "error",
     "traceback": [
      "\u001b[1;31m---------------------------------------------------------------------------\u001b[0m",
      "\u001b[1;31mTypeError\u001b[0m                                 Traceback (most recent call last)",
      "Cell \u001b[1;32mIn[11], line 26\u001b[0m\n\u001b[0;32m     22\u001b[0m     \u001b[38;5;28;01mdef\u001b[39;00m \u001b[38;5;21m__str__\u001b[39m(\u001b[38;5;28mself\u001b[39m):\n\u001b[0;32m     23\u001b[0m         \u001b[38;5;28;01mreturn\u001b[39;00m \u001b[38;5;124mf\u001b[39m\u001b[38;5;124m\"\u001b[39m\u001b[38;5;124mMy name is \u001b[39m\u001b[38;5;132;01m{\u001b[39;00m\u001b[38;5;28mself\u001b[39m\u001b[38;5;241m.\u001b[39mget_name\u001b[38;5;132;01m}\u001b[39;00m\u001b[38;5;124m, I have \u001b[39m\u001b[38;5;132;01m{\u001b[39;00m\u001b[38;5;28mself\u001b[39m\u001b[38;5;241m.\u001b[39mget_legs\u001b[38;5;132;01m}\u001b[39;00m\u001b[38;5;124m legs and can say \u001b[39m\u001b[38;5;132;01m{\u001b[39;00m\u001b[38;5;28mself\u001b[39m\u001b[38;5;241m.\u001b[39mget_voice\u001b[38;5;132;01m}\u001b[39;00m\u001b[38;5;124m. \u001b[39m\u001b[38;5;130;01m\\n\u001b[39;00m\u001b[38;5;124mI am \u001b[39m\u001b[38;5;132;01m{\u001b[39;00m\u001b[38;5;28mself\u001b[39m\u001b[38;5;241m.\u001b[39mage\u001b[38;5;132;01m}\u001b[39;00m\u001b[38;5;124m years old\u001b[39m\u001b[38;5;124m\"\u001b[39m\n\u001b[1;32m---> 26\u001b[0m dog1 \u001b[38;5;241m=\u001b[39m Dog(name\u001b[38;5;241m=\u001b[39m\u001b[38;5;124m\"\u001b[39m\u001b[38;5;124mLaika\u001b[39m\u001b[38;5;124m\"\u001b[39m,voice\u001b[38;5;241m=\u001b[39m\u001b[38;5;124m\"\u001b[39m\u001b[38;5;124mGaf Gaf\u001b[39m\u001b[38;5;124m\"\u001b[39m, num_legs\u001b[38;5;241m=\u001b[39m\u001b[38;5;241m4\u001b[39m, age\u001b[38;5;241m=\u001b[39m\u001b[38;5;241m3\u001b[39m)\n\u001b[0;32m     27\u001b[0m \u001b[38;5;28mprint\u001b[39m(dog1)\n",
      "Cell \u001b[1;32mIn[11], line 19\u001b[0m, in \u001b[0;36mDog.__init__\u001b[1;34m(self, name, voice, num_legs, age)\u001b[0m\n\u001b[0;32m     18\u001b[0m \u001b[38;5;28;01mdef\u001b[39;00m \u001b[38;5;21m__init__\u001b[39m(\u001b[38;5;28mself\u001b[39m, name\u001b[38;5;241m=\u001b[39m\u001b[38;5;28;01mNone\u001b[39;00m, voice\u001b[38;5;241m=\u001b[39m\u001b[38;5;28;01mNone\u001b[39;00m, num_legs\u001b[38;5;241m=\u001b[39m\u001b[38;5;28;01mNone\u001b[39;00m, age\u001b[38;5;241m=\u001b[39m\u001b[38;5;28;01mNone\u001b[39;00m):\n\u001b[1;32m---> 19\u001b[0m     \u001b[38;5;28msuper\u001b[39m()\u001b[38;5;241m.\u001b[39m\u001b[38;5;21m__init__\u001b[39m(name\u001b[38;5;241m=\u001b[39mname, voice\u001b[38;5;241m=\u001b[39mvoice, num_legs\u001b[38;5;241m=\u001b[39mnum_legs, age\u001b[38;5;241m=\u001b[39mage)\n\u001b[0;32m     20\u001b[0m     \u001b[38;5;28mself\u001b[39m\u001b[38;5;241m.\u001b[39mage \u001b[38;5;241m=\u001b[39m age\n",
      "\u001b[1;31mTypeError\u001b[0m: Animal.__init__() got an unexpected keyword argument 'name'"
     ]
    }
   ],
   "source": [
    "class Animal:\n",
    "    def __init__(kwargs):\n",
    "        self.__name = kwargs[\"name\"]\n",
    "        self.__num_legs = kwargs[\"num_legs\"]\n",
    "        self.__voice = kwargs[\"voice\"]\n",
    "    \n",
    "    def get_voice():\n",
    "        return voice\n",
    "    \n",
    "    def get_name():\n",
    "        return name\n",
    "    \n",
    "    def get_legs():\n",
    "        return num_legs\n",
    "    \n",
    "\n",
    "class Dog(Animal):\n",
    "    def __init__(self, name=None, voice=None, num_legs=None, age=None):\n",
    "        super().__init__(name=name, voice=voice, num_legs=num_legs, age=age)\n",
    "        self.age = age\n",
    "\n",
    "    def __str__(self):\n",
    "        return f\"My name is {self.get_name}, I have {self.get_legs} legs and can say {self.get_voice}. \\nI am {self.age} years old\"\n",
    "\n",
    "\n",
    "dog1 = Dog(name=\"Laika\",voice=\"Gaf Gaf\", num_legs=4, age=3)\n",
    "print(dog1)"
   ]
  },
  {
   "cell_type": "code",
   "execution_count": 25,
   "metadata": {},
   "outputs": [
    {
     "name": "stdout",
     "output_type": "stream",
     "text": [
      "My name is Laika, I have 4 legs and can say Gaf Gaf. \n",
      "I am 3 years old\n"
     ]
    }
   ],
   "source": [
    "# correct\n",
    "class Animal:\n",
    "    def __init__(self, name, num_legs, voice):\n",
    "        self.__name = name\n",
    "        self.__num_legs = num_legs\n",
    "        self.__voice = voice\n",
    "\n",
    "    def get_voice(self):\n",
    "        return self.__voice\n",
    "\n",
    "    def get_name(self):\n",
    "        return self.__name\n",
    "\n",
    "    def get_legs(self):\n",
    "        return self.__num_legs\n",
    "\n",
    "class Dog(Animal):\n",
    "    def __init__(self, name=None, voice=None, num_legs=None, age=None):\n",
    "        super().__init__(name=name, voice=voice, num_legs=num_legs)\n",
    "        self.age = age\n",
    "\n",
    "    def __str__(self):\n",
    "        return f\"My name is {self.get_name()}, I have {self.get_legs()} legs and can say {self.get_voice()}. \\nI am {self.age} years old\"\n",
    "\n",
    "dog1 = Dog(name=\"Laika\", voice=\"Gaf Gaf\", num_legs=4, age=3)\n",
    "print(dog1)\n"
   ]
  },
  {
   "cell_type": "markdown",
   "metadata": {},
   "source": [
    "### Expected result:\n",
    "```\n",
    "My name is Laika, I have 4 legs and can say Gaf Gaf. \n",
    "I am 3 years old\n",
    "```"
   ]
  },
  {
   "cell_type": "markdown",
   "metadata": {},
   "source": [
    "# ----------------------------------------------------------"
   ]
  },
  {
   "cell_type": "code",
   "execution_count": 26,
   "metadata": {},
   "outputs": [
    {
     "name": "stdout",
     "output_type": "stream",
     "text": [
      "None\n"
     ]
    }
   ],
   "source": [
    "def generalInfo(gender=None, ageGroup=None):\n",
    "    def personInfo(name=None, familyName=None):\n",
    "        information = f\"{name} {familyName}\"\n",
    "\n",
    "    return personInfo\n",
    "\n",
    "per1 = generalInfo(gender=\"male\",ageGroup=\"adult\")\n",
    "print(per1(name=\"John\", familyName=\"Wick\"))"
   ]
  },
  {
   "cell_type": "code",
   "execution_count": 27,
   "metadata": {},
   "outputs": [
    {
     "name": "stdout",
     "output_type": "stream",
     "text": [
      "John Wick is adult male\n"
     ]
    }
   ],
   "source": [
    "# correct\n",
    "def generalInfo(gender=None, ageGroup=None):\n",
    "    def personInfo(name=None, familyName=None):\n",
    "        information = f\"{name} {familyName} is {ageGroup} {gender}\"\n",
    "        return information\n",
    "    return personInfo\n",
    "\n",
    "per1 = generalInfo(gender=\"male\", ageGroup=\"adult\")\n",
    "print(per1(name=\"John\", familyName=\"Wick\"))\n"
   ]
  },
  {
   "cell_type": "markdown",
   "metadata": {},
   "source": [
    "### Expected result:\n",
    "```\n",
    "John Wick is adult male\n",
    "```"
   ]
  },
  {
   "cell_type": "markdown",
   "metadata": {},
   "source": [
    "# ----------------------------------------------------------"
   ]
  },
  {
   "cell_type": "code",
   "execution_count": 32,
   "metadata": {},
   "outputs": [
    {
     "ename": "AttributeError",
     "evalue": "'builtin_function_or_method' object has no attribute 'replace'",
     "output_type": "error",
     "traceback": [
      "\u001b[1;31m---------------------------------------------------------------------------\u001b[0m",
      "\u001b[1;31mAttributeError\u001b[0m                            Traceback (most recent call last)",
      "Cell \u001b[1;32mIn[32], line 9\u001b[0m\n\u001b[0;32m      5\u001b[0m     \u001b[38;5;28;01mreturn\u001b[39;00m vocab, parsed\n\u001b[0;32m      7\u001b[0m wikipediaText \u001b[38;5;241m=\u001b[39m \u001b[38;5;124m'\u001b[39m\u001b[38;5;124mPython is an interpreted, high-level, general-purpose programming language. Created by Guido van Rossum and first released in 1991, Python`s design philosophy emphasizes code readability with its notable use of significant whitespace. Its language constructs and object-oriented approach aim to help programmers write clear, logical code for small and large-scale projects.[27] Python is dynamically typed and garbage-collected. It supports multiple programming paradigms, including procedural, object-oriented, and functional programming. Python is often described as a \u001b[39m\u001b[38;5;124m\"\u001b[39m\u001b[38;5;124mbatteries included\u001b[39m\u001b[38;5;124m\"\u001b[39m\u001b[38;5;124m language due to its comprehensive standard library.[28] Python was conceived in the late 1980s as a successor to the ABC language. Python 2.0, released in 2000, introduced features like list comprehensions and a garbage collection system capable of collecting reference cycles. Python 3.0, released in 2008, was a major revision of the language that is not completely backward-compatible, and much Python 2 code does not run unmodified on Python 3.\u001b[39m\u001b[38;5;124m'\u001b[39m\n\u001b[1;32m----> 9\u001b[0m vocab, _ \u001b[38;5;241m=\u001b[39m getVocab(wikipediaText)\n\u001b[0;32m     10\u001b[0m \u001b[38;5;28mprint\u001b[39m(vocab)\n",
      "Cell \u001b[1;32mIn[32], line 2\u001b[0m, in \u001b[0;36mgetVocab\u001b[1;34m(inputString)\u001b[0m\n\u001b[0;32m      1\u001b[0m \u001b[38;5;28;01mdef\u001b[39;00m \u001b[38;5;21mgetVocab\u001b[39m(inputString):\n\u001b[1;32m----> 2\u001b[0m     inputString \u001b[38;5;241m=\u001b[39m inputString\u001b[38;5;241m.\u001b[39mlower\u001b[38;5;241m.\u001b[39mreplace(\u001b[38;5;124m\"\u001b[39m\u001b[38;5;124m.\u001b[39m\u001b[38;5;124m\"\u001b[39m,\u001b[38;5;124m\"\u001b[39m\u001b[38;5;124m \u001b[39m\u001b[38;5;124m\"\u001b[39m)\n\u001b[0;32m      3\u001b[0m     parsed \u001b[38;5;241m=\u001b[39m inputString\u001b[38;5;241m.\u001b[39msplit\n\u001b[0;32m      4\u001b[0m     vocab \u001b[38;5;241m=\u001b[39m \u001b[38;5;28mset\u001b[39m(parsed)\n",
      "\u001b[1;31mAttributeError\u001b[0m: 'builtin_function_or_method' object has no attribute 'replace'"
     ]
    }
   ],
   "source": [
    "def getVocab(inputString):\n",
    "    inputString = inputString.lower.replace(\".\",\" \")\n",
    "    parsed = inputString.split\n",
    "    vocab = set(parsed)\n",
    "    return vocab, parsed\n",
    "\n",
    "wikipediaText = 'Python is an interpreted, high-level, general-purpose programming language. Created by Guido van Rossum and first released in 1991, Python`s design philosophy emphasizes code readability with its notable use of significant whitespace. Its language constructs and object-oriented approach aim to help programmers write clear, logical code for small and large-scale projects.[27] Python is dynamically typed and garbage-collected. It supports multiple programming paradigms, including procedural, object-oriented, and functional programming. Python is often described as a \"batteries included\" language due to its comprehensive standard library.[28] Python was conceived in the late 1980s as a successor to the ABC language. Python 2.0, released in 2000, introduced features like list comprehensions and a garbage collection system capable of collecting reference cycles. Python 3.0, released in 2008, was a major revision of the language that is not completely backward-compatible, and much Python 2 code does not run unmodified on Python 3.'\n",
    "\n",
    "vocab, _ = getVocab(wikipediaText)\n",
    "print(vocab)"
   ]
  },
  {
   "cell_type": "code",
   "execution_count": 33,
   "metadata": {},
   "outputs": [
    {
     "name": "stdout",
     "output_type": "stream",
     "text": [
      "{'the', 'write', 'typed', 'to', 'clear,', 'as', 'is', 'its', '2', 'often', 'an', 'introduced', '3', 'with', 'run', 'cycles', 'procedural,', 'that', 'projects', '2008,', 'emphasizes', '1980s', 'list', 'due', 'reference', 'unmodified', 'like', 'notable', 'comprehensive', 'including', 'philosophy', 'logical', 'python`s', '[27]', 'not', 'code', 'completely', 'paradigms,', 'much', '[28]', 'described', 'programmers', 'features', 'significant', 'late', 'help', 'a', 'supports', '2000,', 'rossum', 'high-level,', 'and', 'multiple', 'released', 'library', 'van', 'standard', 'does', 'object-oriented,', 'python', 'small', 'capable', 'interpreted,', 'comprehensions', 'functional', 'approach', 'abc', 'first', 'large-scale', 'for', 'in', 'of', 'constructs', 'language', 'created', 'on', 'object-oriented', 'collection', 'design', 'backward-compatible,', 'garbage-collected', 'readability', 'use', 'programming', 'it', 'system', 'garbage', 'collecting', '1991,', '\"batteries', 'included\"', '0,', 'successor', 'was', 'revision', 'guido', 'general-purpose', 'aim', 'by', 'dynamically', 'conceived', 'major', 'whitespace'}\n"
     ]
    }
   ],
   "source": [
    "# correct\n",
    "def getVocab(inputString):\n",
    "    inputString = inputString.lower().replace(\".\", \" \")\n",
    "    parsed = inputString.split()\n",
    "    vocab = set(parsed)\n",
    "    return vocab, parsed\n",
    "\n",
    "wikipediaText = '''Python is an interpreted, high-level, general-purpose programming language. Created by Guido van Rossum and first released in 1991, Python`s design philosophy emphasizes code readability with its notable use of significant whitespace. Its language constructs and object-oriented approach aim to help programmers write clear, logical code for small and large-scale projects.[27] Python is dynamically typed and garbage-collected. It supports multiple programming paradigms, including procedural, object-oriented, and functional programming. Python is often described as a \"batteries included\" language due to its comprehensive standard library.[28] Python was conceived in the late 1980s as a successor to the ABC language. Python 2.0, released in 2000, introduced features like list comprehensions and a garbage collection system capable of collecting reference cycles. Python 3.0, released in 2008, was a major revision of the language that is not completely backward-compatible, and much Python 2 code does not run unmodified on Python 3.'''\n",
    "vocab, _ = getVocab(wikipediaText)\n",
    "print(vocab)"
   ]
  },
  {
   "cell_type": "markdown",
   "metadata": {},
   "source": [
    "### Expected result:\n",
    "```\n",
    "{'help', 'is', 'unmodified', 'functional', 'including', 'in', 'conceived', 'guido', 'reference', '1980s', '3', 'much', 'of', 'supports', '2000,', 'logical', 'system', 'with', 'rossum', 'completely', 'general-purpose', 'on', 'typed', 'readability', 'aim', 'often', 'interpreted,', 'list', 'object-oriented,', 'was', 'first', 'revision', 'object-oriented', 'clear,', 'backward-compatible,', 'procedural,', 'design', 'python', 'large-scale', 'described', 'a', 'notable', 'code', 'philosophy', 'capable', '[28]', '2008,', 'garbage-collected', 'van', 'that', 'created', 'comprehensions', 'abc', 'for', 'cycles', 'late', 'its', 'included\"', 'introduced', 'high-level,', 'library', '0,', 'write', 'garbage', 'run', 'as', 'programming', 'use', '\"batteries', 'due', 'significant', 'features', 'dynamically', 'multiple', 'not', 'standard', 'major', 'an', 'python`s', 'and', 'collecting', 'to', '2', 'projects', 'programmers', 'whitespace', 'collection', 'does', 'small', 'by', 'like', '1991,', 'emphasizes', 'it', 'successor', 'constructs', '[27]', 'approach', 'the', 'comprehensive', 'released', 'language', 'paradigms,'}\n",
    "```"
   ]
  },
  {
   "cell_type": "markdown",
   "metadata": {},
   "source": [
    "# ----------------------------------------------------------"
   ]
  },
  {
   "cell_type": "code",
   "execution_count": 14,
   "metadata": {},
   "outputs": [
    {
     "ename": "AttributeError",
     "evalue": "'builtin_function_or_method' object has no attribute 'replace'",
     "output_type": "error",
     "traceback": [
      "\u001b[1;31m---------------------------------------------------------------------------\u001b[0m",
      "\u001b[1;31mAttributeError\u001b[0m                            Traceback (most recent call last)",
      "Cell \u001b[1;32mIn[14], line 13\u001b[0m\n\u001b[0;32m      9\u001b[0m         vector\u001b[38;5;241m.\u001b[39mappend(word2idx[word])\n\u001b[0;32m     11\u001b[0m     \u001b[38;5;28;01mreturn\u001b[39;00m vector\n\u001b[1;32m---> 13\u001b[0m \u001b[38;5;28mprint\u001b[39m(generateVector(wikipediaText))\n",
      "Cell \u001b[1;32mIn[14], line 2\u001b[0m, in \u001b[0;36mgenerateVector\u001b[1;34m(inputString)\u001b[0m\n\u001b[0;32m      1\u001b[0m \u001b[38;5;28;01mdef\u001b[39;00m \u001b[38;5;21mgenerateVector\u001b[39m(inputString):\n\u001b[1;32m----> 2\u001b[0m     vocab, parsed \u001b[38;5;241m=\u001b[39m getVocab(inputString)\n\u001b[0;32m      3\u001b[0m     word2idx \u001b[38;5;241m=\u001b[39m []\n\u001b[0;32m      4\u001b[0m     \u001b[38;5;28;01mfor\u001b[39;00m idx, word \u001b[38;5;129;01min\u001b[39;00m \u001b[38;5;28menumerate\u001b[39m(vocab):\n",
      "Cell \u001b[1;32mIn[13], line 2\u001b[0m, in \u001b[0;36mgetVocab\u001b[1;34m(inputString)\u001b[0m\n\u001b[0;32m      1\u001b[0m \u001b[38;5;28;01mdef\u001b[39;00m \u001b[38;5;21mgetVocab\u001b[39m(inputString):\n\u001b[1;32m----> 2\u001b[0m     inputString \u001b[38;5;241m=\u001b[39m inputString\u001b[38;5;241m.\u001b[39mlower\u001b[38;5;241m.\u001b[39mreplace(\u001b[38;5;124m\"\u001b[39m\u001b[38;5;124m.\u001b[39m\u001b[38;5;124m\"\u001b[39m,\u001b[38;5;124m\"\u001b[39m\u001b[38;5;124m \u001b[39m\u001b[38;5;124m\"\u001b[39m)\n\u001b[0;32m      3\u001b[0m     parsed \u001b[38;5;241m=\u001b[39m inputString\u001b[38;5;241m.\u001b[39msplit\n\u001b[0;32m      4\u001b[0m     vocab \u001b[38;5;241m=\u001b[39m \u001b[38;5;28mset\u001b[39m(parsed)\n",
      "\u001b[1;31mAttributeError\u001b[0m: 'builtin_function_or_method' object has no attribute 'replace'"
     ]
    }
   ],
   "source": [
    "def generateVector(inputString):\n",
    "    vocab, parsed = getVocab(inputString)\n",
    "    word2idx = []\n",
    "    for idx, word in enumerate(vocab):\n",
    "        word2idx[word] = idx\n",
    "        \n",
    "    vector = []\n",
    "    for word in len(range(parsed)):\n",
    "        vector.append(word2idx[word])\n",
    "\n",
    "    return vector\n",
    "\n",
    "print(generateVector(wikipediaText))"
   ]
  },
  {
   "cell_type": "code",
   "execution_count": 37,
   "metadata": {},
   "outputs": [
    {
     "name": "stdout",
     "output_type": "stream",
     "text": [
      "[59, 6, 10, 62, 50, 96, 83, 73, 74, 98, 95, 55, 49, 51, 67, 53, 70, 88, 32, 78, 30, 20, 35, 81, 13, 7, 27, 82, 71, 43, 102, 7, 73, 72, 51, 76, 65, 97, 3, 45, 41, 1, 4, 31, 35, 69, 60, 51, 68, 18, 33, 59, 6, 99, 2, 51, 80, 84, 47, 52, 83, 37, 29, 16, 58, 51, 64, 83, 59, 6, 9, 40, 5, 46, 89, 90, 73, 23, 3, 7, 28, 56, 54, 39, 59, 93, 100, 70, 0, 44, 21, 5, 46, 92, 3, 0, 66, 73, 59, 8, 91, 53, 70, 48, 11, 42, 26, 22, 63, 51, 46, 86, 77, 85, 61, 71, 87, 24, 15, 59, 12, 91, 53, 70, 19, 93, 46, 101, 94, 71, 0, 73, 17, 6, 34, 36, 79, 51, 38, 59, 8, 35, 57, 34, 14, 25, 75, 59, 12]\n"
     ]
    }
   ],
   "source": [
    "# correct\n",
    "def generateVector(inputString):\n",
    "    vocab, parsed = getVocab(inputString)\n",
    "    word2idx = {}\n",
    "    for idx, word in enumerate(vocab):\n",
    "        word2idx[word] = idx\n",
    "        \n",
    "    vector = []\n",
    "    for word in parsed:\n",
    "        vector.append(word2idx[word])\n",
    "\n",
    "    return vector\n",
    "\n",
    "print(generateVector(wikipediaText))\n"
   ]
  },
  {
   "cell_type": "markdown",
   "metadata": {},
   "source": [
    "### Expected result:\n",
    "```\n",
    "[37, 1, 77, 26, 59, 20, 66, 101, 50, 89, 7, 48, 18, 79, 30, 100, 5, 91, 78, 36, 43, 92, 42, 23, 17, 56, 41, 67, 12, 70, 85, 56, 101, 95, 79, 32, 97, 24, 81, 0, 84, 62, 33, 15, 42, 53, 88, 79, 38, 83, 96, 37, 1, 72, 22, 79, 47, 93, 13, 73, 66, 102, 4, 35, 28, 79, 3, 66, 37, 1, 25, 39, 65, 40, 68, 57, 101, 69, 81, 56, 99, 75, 60, 45, 37, 29, 6, 5, 98, 55, 9, 65, 40, 94, 81, 98, 52, 101, 37, 82, 61, 100, 5, 14, 58, 71, 90, 27, 51, 79, 40, 63, 86, 16, 44, 12, 80, 8, 54, 37, 10, 61, 100, 5, 46, 29, 40, 76, 31, 12, 98, 101, 49, 1, 74, 19, 34, 79, 11, 37, 82, 42, 87, 74, 64, 2, 21, 37, 10]\n",
    "```"
   ]
  },
  {
   "cell_type": "markdown",
   "metadata": {},
   "source": [
    "# ----------------------------------------------------------"
   ]
  },
  {
   "cell_type": "code",
   "execution_count": 15,
   "metadata": {},
   "outputs": [
    {
     "ename": "TypeError",
     "evalue": "Animal.__init__() got an unexpected keyword argument 'name'",
     "output_type": "error",
     "traceback": [
      "\u001b[1;31m---------------------------------------------------------------------------\u001b[0m",
      "\u001b[1;31mTypeError\u001b[0m                                 Traceback (most recent call last)",
      "Cell \u001b[1;32mIn[15], line 10\u001b[0m\n\u001b[0;32m      7\u001b[0m     \u001b[38;5;28;01mdef\u001b[39;00m \u001b[38;5;21m__str__\u001b[39m(\u001b[38;5;28mself\u001b[39m):\n\u001b[0;32m      8\u001b[0m         \u001b[38;5;28;01mreturn\u001b[39;00m \u001b[38;5;124m\"\u001b[39m\u001b[38;5;124mMy name is \u001b[39m\u001b[38;5;124m{\u001b[39m\u001b[38;5;124mself.get_name()}, and I am \u001b[39m\u001b[38;5;132;01m{self.age}\u001b[39;00m\u001b[38;5;124m years old. My gender is \u001b[39m\u001b[38;5;132;01m{self.gender}\u001b[39;00m\u001b[38;5;124m\"\u001b[39m\n\u001b[1;32m---> 10\u001b[0m cat1 \u001b[38;5;241m=\u001b[39m Cat(\u001b[38;5;124m\"\u001b[39m\u001b[38;5;124mLilly\u001b[39m\u001b[38;5;124m\"\u001b[39m,\u001b[38;5;241m4\u001b[39m,\u001b[38;5;124m\"\u001b[39m\u001b[38;5;124mfemale\u001b[39m\u001b[38;5;124m\"\u001b[39m)\n\u001b[0;32m     11\u001b[0m \u001b[38;5;28mprint\u001b[39m(cat1)\n",
      "Cell \u001b[1;32mIn[15], line 3\u001b[0m, in \u001b[0;36mCat.__init__\u001b[1;34m(self, name, age, gender)\u001b[0m\n\u001b[0;32m      2\u001b[0m \u001b[38;5;28;01mdef\u001b[39;00m \u001b[38;5;21m__init__\u001b[39m(\u001b[38;5;28mself\u001b[39m, name, age, gender):\n\u001b[1;32m----> 3\u001b[0m     \u001b[38;5;28msuper\u001b[39m()\u001b[38;5;241m.\u001b[39m\u001b[38;5;21m__init__\u001b[39m(name\u001b[38;5;241m=\u001b[39mname)\n\u001b[0;32m      4\u001b[0m     \u001b[38;5;28mself\u001b[39m\u001b[38;5;241m.\u001b[39mage \u001b[38;5;241m=\u001b[39m age\n\u001b[0;32m      5\u001b[0m     \u001b[38;5;28mself\u001b[39m\u001b[38;5;241m.\u001b[39mgender\u001b[38;5;241m=\u001b[39mgender\n",
      "\u001b[1;31mTypeError\u001b[0m: Animal.__init__() got an unexpected keyword argument 'name'"
     ]
    }
   ],
   "source": [
    "class Cat(Animal):\n",
    "    def __init__(self, name, age, gender):\n",
    "        super().__init__(name=name)\n",
    "        self.age = age\n",
    "        self.gender=gender\n",
    "    \n",
    "    def __str__(self):\n",
    "        return \"My name is {self.get_name()}, and I am {self.age} years old. My gender is {self.gender}\"\n",
    "\n",
    "cat1 = Cat(\"Lilly\",4,\"female\")\n",
    "print(cat1)"
   ]
  },
  {
   "cell_type": "code",
   "execution_count": 38,
   "metadata": {},
   "outputs": [
    {
     "name": "stdout",
     "output_type": "stream",
     "text": [
      "My name is Lilly, and I am 4 years old. My gender is female\n"
     ]
    }
   ],
   "source": [
    "# correct\n",
    "class Animal:\n",
    "    def __init__(self, name):\n",
    "        self.__name = name\n",
    "\n",
    "    def get_name(self):\n",
    "        return self.__name\n",
    "\n",
    "class Cat(Animal):\n",
    "    def __init__(self, name, age, gender):\n",
    "        super().__init__(name)\n",
    "        self.age = age\n",
    "        self.gender = gender\n",
    "    \n",
    "    def __str__(self):\n",
    "        return f\"My name is {self.get_name()}, and I am {self.age} years old. My gender is {self.gender}\"\n",
    "\n",
    "cat1 = Cat(\"Lilly\", 4, \"female\")\n",
    "print(cat1)\n"
   ]
  },
  {
   "cell_type": "markdown",
   "metadata": {},
   "source": [
    "### Expected result:\n",
    "```\n",
    "My name is Lilly, and I am 4 years old. My gender is female\n",
    "```"
   ]
  },
  {
   "cell_type": "markdown",
   "metadata": {},
   "source": [
    "# ----------------------------------------------------------"
   ]
  },
  {
   "cell_type": "code",
   "execution_count": 40,
   "metadata": {},
   "outputs": [
    {
     "ename": "SyntaxError",
     "evalue": "positional argument follows keyword argument (2805476303.py, line 3)",
     "output_type": "error",
     "traceback": [
      "\u001b[1;36m  Cell \u001b[1;32mIn[40], line 3\u001b[1;36m\u001b[0m\n\u001b[1;33m    super().__init__(name=name, age=age, gender=gender, num_legs)\u001b[0m\n\u001b[1;37m                                                                ^\u001b[0m\n\u001b[1;31mSyntaxError\u001b[0m\u001b[1;31m:\u001b[0m positional argument follows keyword argument\n"
     ]
    }
   ],
   "source": [
    "class Puppy(Dog):\n",
    "    def __init__(self, name=None, age=None, gender=None, num_legs=None):\n",
    "        super().__init__(name=name, age=age, gender=gender, num_legs)\n",
    "        self.age=age\n",
    "    \n",
    "    def _str__(self):\n",
    "        return f\"My name is {self.get_name()}, I am {self.age} years old. I have {self.get_legs()} legs\"\n",
    "\n",
    "pup1 = Puppy(name=\"Jackie\", age=1, gender=\"male\", num_legs=4)\n",
    "print(pup1)"
   ]
  },
  {
   "cell_type": "code",
   "execution_count": 45,
   "metadata": {},
   "outputs": [
    {
     "name": "stdout",
     "output_type": "stream",
     "text": [
      "My name is Jackie, I am 1 years old. I have 4 legs\n"
     ]
    }
   ],
   "source": [
    "# correct\n",
    "class Animal:\n",
    "    def __init__(self, name, num_legs):\n",
    "        self.__name = name\n",
    "        self.__num_legs = num_legs\n",
    "\n",
    "    def get_name(self):\n",
    "        return self.__name\n",
    "\n",
    "    def get_legs(self):\n",
    "        return self.__num_legs\n",
    "\n",
    "class Dog(Animal):\n",
    "    def __init__(self, name=None, num_legs=None, age=None):\n",
    "        super().__init__(name=name, num_legs=num_legs)\n",
    "        self.age = age\n",
    "\n",
    "    def __str__(self):\n",
    "        return f\"My name is {self.get_name()}, I have {self.get_legs()} legs and can say {self.get_voice()}. \\nI am {self.age} years old\"\n",
    "\n",
    "class Puppy(Dog):\n",
    "    def __init__(self, name=None, age=None, gender=None, num_legs=None):\n",
    "        super().__init__(name=name, age=age, num_legs=num_legs)\n",
    "        self.gender = gender\n",
    "    \n",
    "    def __str__(self):\n",
    "        return f\"My name is {self.get_name()}, I am {self.age} years old. I have {self.get_legs()} legs\"\n",
    "\n",
    "pup1 = Puppy(name=\"Jackie\", age=1, gender=\"male\", num_legs=4)\n",
    "print(pup1)\n"
   ]
  },
  {
   "cell_type": "markdown",
   "metadata": {},
   "source": [
    "### Expected result:\n",
    "```\n",
    "My name is Jackie, I am 1 years old. I have 4 legs\n",
    "```"
   ]
  },
  {
   "cell_type": "markdown",
   "metadata": {},
   "source": [
    "# Great work !!!"
   ]
  }
 ],
 "metadata": {
  "kernelspec": {
   "display_name": "base",
   "language": "python",
   "name": "python3"
  },
  "language_info": {
   "codemirror_mode": {
    "name": "ipython",
    "version": 3
   },
   "file_extension": ".py",
   "mimetype": "text/x-python",
   "name": "python",
   "nbconvert_exporter": "python",
   "pygments_lexer": "ipython3",
   "version": "3.12.7"
  }
 },
 "nbformat": 4,
 "nbformat_minor": 2
}
