{
 "cells": [
  {
   "cell_type": "markdown",
   "metadata": {},
   "source": [
    "## Python date\n",
    "\n",
    "1. Write a Python program to subtract five days from current date.\n"
   ]
  },
  {
   "cell_type": "code",
   "execution_count": 5,
   "metadata": {},
   "outputs": [
    {
     "name": "stdout",
     "output_type": "stream",
     "text": [
      "2025-02-20 20:32:57.751431\n"
     ]
    }
   ],
   "source": [
    "import datetime as ti\n",
    "from datetime import *\n",
    "x = ti.datetime.now()\n",
    "y = x - timedelta(days=5)\n",
    "print(y)"
   ]
  },
  {
   "cell_type": "markdown",
   "metadata": {},
   "source": [
    "\n",
    "2. Write a Python program to print yesterday, today, tomorrow.\n"
   ]
  },
  {
   "cell_type": "code",
   "execution_count": 7,
   "metadata": {},
   "outputs": [
    {
     "name": "stdout",
     "output_type": "stream",
     "text": [
      "yesterday:  2025-02-24 20:39:47.435838 today:  2025-02-25 20:39:47.435838 tomorrow:  2025-02-26 20:39:47.435838\n"
     ]
    }
   ],
   "source": [
    "import datetime as ti\n",
    "from datetime import *\n",
    "x = ti.datetime.now()\n",
    "y = x - timedelta(days=1)\n",
    "z = x + timedelta(days=1)\n",
    "print(\"yesterday: \", y, \"today: \", x, \"tomorrow: \", z)"
   ]
  },
  {
   "cell_type": "markdown",
   "metadata": {},
   "source": [
    "\n",
    "3. Write a Python program to drop microseconds from datetime.\n"
   ]
  },
  {
   "cell_type": "code",
   "execution_count": 8,
   "metadata": {},
   "outputs": [
    {
     "name": "stdout",
     "output_type": "stream",
     "text": [
      "2025-02-25 20:44:07\n"
     ]
    }
   ],
   "source": [
    "import datetime as ti\n",
    "from datetime import *\n",
    "y = ti.datetime.now().replace(microsecond=0)\n",
    "print(y)"
   ]
  },
  {
   "cell_type": "markdown",
   "metadata": {},
   "source": [
    "\n",
    "4. Write a Python program to calculate two date difference in seconds.\n"
   ]
  },
  {
   "cell_type": "code",
   "execution_count": 11,
   "metadata": {},
   "outputs": [
    {
     "name": "stdout",
     "output_type": "stream",
     "text": [
      "31661146.0\n"
     ]
    }
   ],
   "source": [
    "import datetime as ti\n",
    "from datetime import *\n",
    "x = ti.datetime.now().replace(microsecond=0)\n",
    "y = ti.datetime(2024, 2, 25, 10, 10, 10).replace(microsecond=0)\n",
    "z = (x - y).total_seconds()\n",
    "print(z)"
   ]
  }
 ],
 "metadata": {
  "kernelspec": {
   "display_name": "base",
   "language": "python",
   "name": "python3"
  },
  "language_info": {
   "codemirror_mode": {
    "name": "ipython",
    "version": 3
   },
   "file_extension": ".py",
   "mimetype": "text/x-python",
   "name": "python",
   "nbconvert_exporter": "python",
   "pygments_lexer": "ipython3",
   "version": "3.12.7"
  }
 },
 "nbformat": 4,
 "nbformat_minor": 2
}
