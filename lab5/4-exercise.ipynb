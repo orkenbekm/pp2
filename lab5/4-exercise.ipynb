{
 "cells": [
  {
   "cell_type": "markdown",
   "metadata": {},
   "source": [
    "4. Write a Python program to find the sequences of one upper case letter followed by lower case letters."
   ]
  },
  {
   "cell_type": "code",
   "execution_count": 2,
   "metadata": {},
   "outputs": [],
   "source": [
    "import re\n",
    "file = open(r'C:\\Users\\Aikorkem\\Desktop\\STUDY\\pp2\\labs\\lab5\\row.txt')\n",
    "s = file.read()"
   ]
  },
  {
   "cell_type": "code",
   "execution_count": 3,
   "metadata": {},
   "outputs": [
    {
     "name": "stdout",
     "output_type": "stream",
     "text": [
      "['Филиал', 'Астана', 'Серия', 'Касса', 'Смена', 'Порядковый', 'Чек', 'Кассир', 'Аптека', 'Натрия', 'Стоимость', 'Борный', 'Стоимость', 'Шприц', 'Стоимость', 'Система', 'Стоимость', 'Классик', 'Стоимость', 'Ватные', 'Стоимость', 'Чистая', 'Стоимость', 'Чистая', 'Стоимость', 'Чистая', 'Стоимость', 'Алоэвоздухопроницаемые', 'Стоимость', 'Шампунь', 'Стоимость', 'Яркий', 'Стоимость', 'Актив', 'Стоимость', 'Мицеллярная', 'Стоимость', 'Гель', 'Стоимость', 'Натрия', 'Стоимость', 'Дисоль', 'Стоимость', 'Тагансорбент', 'Стоимость', 'Церукал', 'Стоимость', 'Андазол', 'Стоимость', 'Банковская', 'Фискальный', 'Время', 'Нур', 'Казахстан', 'Мангилик', 'Ел', 'Оператор', 'Казахтелеком', 'Для', 'Код']\n"
     ]
    }
   ],
   "source": [
    "pt = r'[А-Я]+[а-я]+'\n",
    "n = re.findall(pt, s)\n",
    "print(n)"
   ]
  }
 ],
 "metadata": {
  "kernelspec": {
   "display_name": "base",
   "language": "python",
   "name": "python3"
  },
  "language_info": {
   "codemirror_mode": {
    "name": "ipython",
    "version": 3
   },
   "file_extension": ".py",
   "mimetype": "text/x-python",
   "name": "python",
   "nbconvert_exporter": "python",
   "pygments_lexer": "ipython3",
   "version": "3.12.7"
  }
 },
 "nbformat": 4,
 "nbformat_minor": 2
}
