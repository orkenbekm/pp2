{
 "cells": [
  {
   "cell_type": "markdown",
   "metadata": {},
   "source": [
    "### Files: CSV format Lecture Notes\n",
    "\n",
    "Download to your PC CSV file \"Annual Enterprise Survey: 2018 Financial Year (Provision)-CSV\" at the following link: https://www.stats.govt.nz/large-datasets/csv-files-for-download/"
   ]
  },
  {
   "cell_type": "code",
   "execution_count": 2,
   "metadata": {},
   "outputs": [],
   "source": [
    "import csv\n",
    "import os"
   ]
  },
  {
   "cell_type": "code",
   "execution_count": null,
   "metadata": {},
   "outputs": [],
   "source": [
    "new_list=[]\n",
    "with open (r'C:\\Users\\Aikorkem\\Desktop\\STUDY\\pp2\\labs\\lab6\\annual-enterprise-survey-2018-financial-year-provisional-csv.csv', mode='r') as file:\n",
    "    csv_reader=csv.reader(file)\n",
    "    for row in csv_reader: \n",
    "        new_list.append(row)\n",
    "col_titles=new_list[:1]"
   ]
  },
  {
   "cell_type": "code",
   "execution_count": 4,
   "metadata": {},
   "outputs": [
    {
     "name": "stdout",
     "output_type": "stream",
     "text": [
      "[['Year', 'Industry_aggregation_NZSIOC', 'Industry_code_NZSIOC', 'Industry_name_NZSIOC', 'Units', 'Variable_code', 'Variable_name', 'Variable_category', 'Value', 'Industry_code_ANZSIC06']]\n"
     ]
    }
   ],
   "source": [
    "print(col_titles)"
   ]
  },
  {
   "cell_type": "markdown",
   "metadata": {},
   "source": [
    "### Expected result:\n",
    "```\n",
    "[['Year', 'Industry_aggregation_NZSIOC', 'Industry_code_NZSIOC', 'Industry_name_NZSIOC', 'Units', 'Variable_code', 'Variable_name', 'Variable_category', 'Value', 'Industry_code_ANZSIC06']]\n",
    "```"
   ]
  },
  {
   "cell_type": "code",
   "execution_count": null,
   "metadata": {},
   "outputs": [],
   "source": [
    "data=[]\n",
    "with open (r'C:\\Users\\Aikorkem\\Desktop\\STUDY\\pp2\\labs\\lab6\\annual-enterprise-survey-2018-financial-year-provisional-csv.csv', mode='r') as file:\n",
    "    csv_reader=csv.reader(file)\n",
    "    for row in csv_reader:\n",
    "        data.append(row)"
   ]
  },
  {
   "cell_type": "code",
   "execution_count": null,
   "metadata": {},
   "outputs": [
    {
     "name": "stdout",
     "output_type": "stream",
     "text": [
      "[['2018', 'Level 1', '99999', 'All industries', 'Dollars (millions)', 'H01', 'Total income', 'Financial performance', '691859', 'ANZSIC06 divisions A-S (excluding classes K6330, L6711, O7552, O760, O771, O772, S9540, S9601, S9602, and S9603)'], ['2018', 'Level 1', '99999', 'All industries', 'Dollars (millions)', 'H04', 'Sales, government funding, grants and subsidies', 'Financial performance', '605766', 'ANZSIC06 divisions A-S (excluding classes K6330, L6711, O7552, O760, O771, O772, S9540, S9601, S9602, and S9603)'], ['2018', 'Level 1', '99999', 'All industries', 'Dollars (millions)', 'H05', 'Interest, dividends and donations', 'Financial performance', '63509', 'ANZSIC06 divisions A-S (excluding classes K6330, L6711, O7552, O760, O771, O772, S9540, S9601, S9602, and S9603)'], ['2018', 'Level 1', '99999', 'All industries', 'Dollars (millions)', 'H07', 'Non-operating income', 'Financial performance', '22583', 'ANZSIC06 divisions A-S (excluding classes K6330, L6711, O7552, O760, O771, O772, S9540, S9601, S9602, and S9603)']]\n"
     ]
    }
   ],
   "source": [
    "print(data[1:5])"
   ]
  },
  {
   "cell_type": "markdown",
   "metadata": {},
   "source": [
    "### Expected result:\n",
    "```\n",
    "[['2018', 'Level 1', '99999', 'All industries', 'Dollars (millions)', 'H01', 'Total income', 'Financial performance', '691859', 'ANZSIC06 divisions A-S (excluding classes K6330, L6711, O7552, O760, O771, O772, S9540, S9601, S9602, and S9603)'], ['2018', 'Level 1', '99999', 'All industries', 'Dollars (millions)', 'H04', 'Sales, government funding, grants and subsidies', 'Financial performance', '605766', 'ANZSIC06 divisions A-S (excluding classes K6330, L6711, O7552, O760, O771, O772, S9540, S9601, S9602, and S9603)'], ['2018', 'Level 1', '99999', 'All industries', 'Dollars (millions)', 'H05', 'Interest, dividends and donations', 'Financial performance', '63509', 'ANZSIC06 divisions A-S (excluding classes K6330, L6711, O7552, O760, O771, O772, S9540, S9601, S9602, and S9603)'], ['2018', 'Level 1', '99999', 'All industries', 'Dollars (millions)', 'H07', 'Non-operating income', 'Financial performance', '22583', 'ANZSIC06 divisions A-S (excluding classes K6330, L6711, O7552, O760, O771, O772, S9540, S9601, S9602, and S9603)'], ['2018', 'Level 1', '99999', 'All industries', 'Dollars (millions)', 'H08', 'Total expenditure', 'Financial performance', '597623', 'ANZSIC06 divisions A-S (excluding classes K6330, L6711, O7552, O760, O771, O772, S9540, S9601, S9602, and S9603)']]\n",
    "```"
   ]
  },
  {
   "cell_type": "code",
   "execution_count": null,
   "metadata": {},
   "outputs": [
    {
     "name": "stdout",
     "output_type": "stream",
     "text": [
      "[['2013', 'Level 4', 'MN115', 'Computer System Design and Related Services', 'Dollars (millions)', 'H28', 'Disposals of fixed assets', 'Financial position', '39', 'ANZSIC06 group M700'], ['2013', 'Level 4', 'MN115', 'Computer System Design and Related Services', 'Dollars (millions)', 'H29', 'Other assets', 'Financial position', '691', 'ANZSIC06 group M700'], ['2013', 'Level 4', 'MN115', 'Computer System Design and Related Services', 'Dollars (millions)', 'H30', 'Total equity and liabilities', 'Financial position', '3465', 'ANZSIC06 group M700'], ['2013', 'Level 4', 'MN115', 'Computer System Design and Related Services', 'Dollars (millions)', 'H31', 'Shareholders funds or owners equity', 'Financial position', '1420', 'ANZSIC06 group M700'], ['2013', 'Level 4', 'MN115', 'Computer ']]\n"
     ]
    }
   ],
   "source": [
    "print(data[-5:])"
   ]
  },
  {
   "cell_type": "markdown",
   "metadata": {},
   "source": [
    "### Expected result:\n",
    "```\n",
    "[['2013', 'Level 3', 'ZZ11', 'Food product manufacturing', 'Percentage', 'H37', 'Quick ratio', 'Financial ratios', '52', 'ANZSIC06 groups C111, C112, C113, C114, C115, C116, C117, C118, and C119'], ['2013', 'Level 3', 'ZZ11', 'Food product manufacturing', 'Percentage', 'H38', 'Margin on sales of goods for resale', 'Financial ratios', '40', 'ANZSIC06 groups C111, C112, C113, C114, C115, C116, C117, C118, and C119'], ['2013', 'Level 3', 'ZZ11', 'Food product manufacturing', 'Percentage', 'H39', 'Return on equity', 'Financial ratios', '12', 'ANZSIC06 groups C111, C112, C113, C114, C115, C116, C117, C118, and C119'], ['2013', 'Level 3', 'ZZ11', 'Food product manufacturing', 'Percentage', 'H40', 'Return on total assets', 'Financial ratios', '5', 'ANZSIC06 groups C111, C112, C113, C114, C115, C116, C117, C118, and C119'], ['2013', 'Level 3', 'ZZ11', 'Food product manufacturing', 'Percentage', 'H41', 'Liabilities structure', 'Financial ratios', '46', 'ANZSIC06 groups C111, C112, C113, C114, C115, C116, C117, C118, and C119']]\n",
    "```"
   ]
  },
  {
   "cell_type": "markdown",
   "metadata": {},
   "source": [
    "----\n",
    "### 1. Calculate how many different levels of aggregation of the industry exist (Industry_aggregation_NZSIOC)"
   ]
  },
  {
   "cell_type": "code",
   "execution_count": null,
   "metadata": {},
   "outputs": [],
   "source": [
    "import csv\n",
    "unique_levels = set()\n",
    "with open (r'C:\\Users\\Aikorkem\\Desktop\\STUDY\\pp2\\labs\\lab6\\annual-enterprise-survey-2018-financial-year-provisional-csv.csv', mode='r') as file:\n",
    "    data=csv.DictReader(file)\n",
    "    for row in data:\n",
    "    # Начало вашего кода \n",
    "        level = row['Industry_aggregation_NZSIOC']\n",
    "        unique_levels.add(level)\n",
    "    # Конец вашего кода"
   ]
  },
  {
   "cell_type": "code",
   "execution_count": null,
   "metadata": {},
   "outputs": [
    {
     "name": "stdout",
     "output_type": "stream",
     "text": [
      "{'Level 1', 'Level 3', 'Level 4'}\n",
      "3\n"
     ]
    }
   ],
   "source": [
    "print(unique_levels)\n",
    "print(len(unique_levels))"
   ]
  },
  {
   "cell_type": "markdown",
   "metadata": {},
   "source": [
    "### Expected result:\n",
    "```\n",
    "{'Level 4', 'Level 3', 'Level 1'}\n",
    "3\n",
    "```"
   ]
  },
  {
   "cell_type": "markdown",
   "metadata": {},
   "source": [
    "### 2. Calculate how many different industries (Industry_name_nzsioc) exist, and return the list of these unique industries."
   ]
  },
  {
   "cell_type": "code",
   "execution_count": null,
   "metadata": {},
   "outputs": [],
   "source": [
    "import csv\n",
    "unique_industries = set()\n",
    "with open (r'C:\\Users\\Aikorkem\\Desktop\\STUDY\\pp2\\labs\\lab6\\annual-enterprise-survey-2018-financial-year-provisional-csv.csv', mode='r') as file:\n",
    "    data=csv.DictReader(file)\n",
    "    for row in data:\n",
    "    # Начало вашего кода \n",
    "        ind=row['Industry_name_NZSIOC']\n",
    "        unique_industries.add(ind)\n",
    "    # Конец вашего кода"
   ]
  },
  {
   "cell_type": "code",
   "execution_count": null,
   "metadata": {},
   "outputs": [
    {
     "name": "stdout",
     "output_type": "stream",
     "text": [
      "{'Financial and Insurance Services', 'Postal, Courier, Transport Support, and Warehousing Services', 'Basic Chemical and Basic Polymer Manufacturing', 'Non-Residential Building Construction', 'Medical and Other Health Care Services', 'Construction Services', 'Personal Care, Funeral and Other Personal Services', 'Basic Chemical and Chemical Product Manufacturing', 'Road Transport', 'Poultry, Deer and Other Livestock Farming', 'Preschool Education', 'Forestry and Logging', 'Pharmaceutical and Other Store Based Retailing', 'Rental, Hiring and Real Estate Services', 'Health Care and Social Assistance', 'Financial Asset Investing', 'Mining', 'Administrative and Support Services', 'Machinery and Other Equipment Manufacturing', 'Professional, Scientific, Technical, Administrative and Support Services', 'Electricity, Gas, Water and Waste Services', 'Electricity and Gas Supply', 'Heavy and Civil Engineering Construction', 'Non-Residential Property Operation', 'Advertising, Market Research and Management Services', 'Building Construction', 'Construction', 'Polymer Product and Rubber Product Manufacturing', 'School Education', 'Textile and Leather Manufacturing', 'Non-Metallic Mineral Product Manufacturing', 'Transport Equipment Manufacturing', 'Retail Trade and Accommodation', 'Pulp, Paper and Converted Paper Product Manufacturing', 'Agriculture, Forestry and Fishing Support Services and Hunting', 'Property Operators and Real Estate Services', 'Legal and Accounting Services', 'Tertiary Education', 'Other Store-Based Retailing and Non Store Retailing', 'Warehousing and Storage Services', 'Wholesale Trade', 'Agriculture, Forestry and Fishing', 'Fabricated Metal Product Manufacturing', 'Public Order, Safety and Regulatory Services', 'Accommodation', 'Health and General Insurance', 'Manufacturing', 'Education and Training', 'Insurance', 'Basic Material Wholesaling', 'Life Insurance', 'Hospitals', 'Grocery, Liquor and Tobacco Product Wholesaling', 'Non-Store and Commission Based Retailing', 'Rental and Hiring Services (except Real Estate)', 'Travel Agency and Tour Arrangement Services', 'Scientific, Architectural and Engineering Services', 'Telecommunications, Internet and Library Services', 'Professional, Scientific and Technical Services', 'Adult, Community and Other Education', 'Fertiliser and Pesticide Manufacturing', 'Residential Care Services and Social Assistance', 'Sport and Recreation Activities', 'Fishing and Aquaculture', 'Textile, Leather, Clothing and Footwear Manufacturing', 'Commission Based Wholesaling', 'Postal and Courier Pick Up and Delivery Services', 'Auxiliary Finance and Insurance Services', 'Printing', 'Furniture, Electrical and Hardware Retailing', 'Machinery and Equipment Wholesaling', 'Dairy Cattle Farming', 'Finance', 'Computer System Design and Related Services', 'Accommodation and Food Services', 'Supermarket, Grocery Stores and Specialised Food Retailing', 'All industries', 'Other Goods Wholesaling', 'Petroleum and Coal Product Manufacturing', 'Recreational, Clothing, Footwear and Personal Accessory Retailing', 'Horticulture and Fruit Growing', 'Wood Product Manufacturing', 'Computer ', 'Pharmaceutical, Cleaning and Other Chemical Manufacturing', 'Furniture and Other Manufacturing', 'Real Estate Services', 'Other Manufacturing', 'Information Media and Telecommunications', 'Motor Vehicle and Motor Vehicle Parts Wholesaling', 'Building Cleaning, Pest Control and Other Support Services', 'Other Services', 'Primary Metal and Metal Product Manufacturing', 'Residential Building Construction', 'Non-Financial Asset Leasing', 'Furniture Manufacturing', 'Beverage and Tobacco Product Manufacturing', 'Water, Sewerage, Drainage and Waste Services', 'Rail, Water, Air and Other Transport', 'Transport, Postal and Warehousing', 'Transport Support Services', 'Banking and Financing', 'Food and Beverage Services', 'Department Stores', 'Employment and Other Administrative Services', 'Arts, Recreation and Other Services', 'Motor Vehicle and Motor Vehicle Parts and Fuel Retailing', 'Gambling Activities', 'Arts and Recreation Services', 'Civil, Professional and Other Interest Groups', 'Machinery Manufacturing', 'Heritage and Artistic Activities', 'Veterinary and Other Professional Services', 'Repair and Maintenance', 'Information Media Services', 'Food Product Manufacturing', 'Sheep, Beef Cattle and Grain Farming', 'Clothing, Knitted Products and Footwear Manufacturing', 'Electronic and Electrical Equipment Manufacturing'}\n",
      "118\n"
     ]
    }
   ],
   "source": [
    "print(unique_industries)\n",
    "print(len(unique_industries))"
   ]
  },
  {
   "cell_type": "markdown",
   "metadata": {},
   "source": [
    "### Expected result:\n",
    "```\n",
    "{'Electricity, Gas, Water and Waste Services', 'Insurance', 'Recreational, Clothing, Footwear and Personal Accessory Retailing', 'Auxiliary Finance and Insurance Services', 'Non-Financial Asset Leasing', 'Education and Training', 'Textile and Leather Manufacturing', 'Commission Based Wholesaling', 'Financial and Insurance Services', 'Supermarket, Grocery Stores and Specialised Food Retailing', 'Information Media and Telecommunications', 'Legal and Accounting Services', 'Hospitals', 'Basic Chemical and Chemical Product Manufacturing', 'Motor Vehicle and Motor Vehicle Parts Wholesaling', 'Transport, Postal and Warehousing', 'Other Goods Wholesaling', 'Machinery Manufacturing', 'Food and Beverage Services', 'Health and General Insurance', 'Sport and Recreation Activities', 'Horticulture and Fruit Growing', 'Travel Agency and Tour Arrangement Services', 'Petroleum and Coal Product Manufacturing', 'Sheep, Beef Cattle and Grain Farming', 'Professional, Scientific, Technical, Administrative and Support Services', 'Non-Residential Building Construction', 'Heritage and Artistic Activities', 'Dairy Cattle Farming', 'Food Product Manufacturing', 'Mining', 'Financial Asset Investing', 'Clothing, Knitted Products and Footwear Manufacturing', 'Basic Chemical and Basic Polymer Manufacturing', 'Wholesale Trade', 'Agriculture, Forestry and Fishing', 'Personal Care, Funeral and Other Personal Services', 'Transport Equipment Manufacturing', 'All industries', 'Rental and Hiring Services (except Real Estate)', 'Property Operators and Real Estate Services', 'Heavy and Civil Engineering Construction', 'Food product manufacturing', 'Construction Services', 'Machinery and Other Equipment Manufacturing', 'Other Services', 'Banking and Financing', 'Health Care and Social Assistance', 'Information Media Services', 'Electronic and Electrical Equipment Manufacturing', 'Gambling Activities', 'Employment and Other Administrative Services', 'Warehousing and Storage Services', 'Retail Trade and Accommodation', 'Finance', 'Water, Sewerage, Drainage and Waste Services', 'Arts and Recreation Services', 'Road Transport', 'Printing', 'Furniture and Other Manufacturing', 'Furniture, Electrical and Hardware Retailing', 'Residential Care Services and Social Assistance', 'Civil, Professional and Other Interest Groups', 'Life Insurance', 'Building Construction', 'Other Manufacturing', 'Accommodation', 'Rail, Water, Air and Other Transport', 'Telecommunications, Internet and Library Services', 'Manufacturing', 'Motor Vehicle and Motor Vehicle Parts and Fuel Retailing', 'Beverage and Tobacco Product Manufacturing', 'Primary Metal and Metal Product Manufacturing', 'Preschool Education', 'Fabricated Metal Product Manufacturing', 'Public Order, Safety and Regulatory Services', 'Wood Product Manufacturing', 'Poultry, Deer and Other Livestock Farming', 'School Education', 'Administrative and Support Services', 'Non-Residential Property Operation', 'Repair and Maintenance', 'Polymer Product and Rubber Product Manufacturing', 'Accommodation and Food Services', 'Pulp, Paper and Converted Paper Product Manufacturing', 'Residential Building Construction', 'Adult, Community and Other Education', 'Non-Metallic Mineral Product Manufacturing', 'Pharmaceutical, Cleaning and Other Chemical Manufacturing', 'Non-Store and Commission Based Retailing', 'Rental, Hiring and Real Estate Services', 'Fertiliser and Pesticide Manufacturing', 'Electricity and Gas Supply', 'Forestry and Logging', 'Furniture Manufacturing', 'Pharmaceutical and Other Store Based Retailing', 'Department Stores', 'Transport Support Services', 'Construction', 'Public order, safety and regulatory services', 'Tertiary Education', 'Medical and Other Health Care Services', 'Postal, Courier, Transport Support, and Warehousing Services', 'Basic Material Wholesaling', 'Computer System Design and Related Services', 'Arts, Recreation and Other Services', 'Postal and Courier Pick Up and Delivery Services', 'Real Estate Services', 'Advertising, Market Research and Management Services', 'Veterinary and Other Professional Services', 'Fishing and Aquaculture', 'Machinery and Equipment Wholesaling', 'Professional, Scientific and Technical Services', 'Grocery, Liquor and Tobacco Product Wholesaling', 'Other Store-Based Retailing and Non Store Retailing', 'Agriculture, Forestry and Fishing Support Services and Hunting', 'Building Cleaning, Pest Control and Other Support Services', 'Textile, Leather, Clothing and Footwear Manufacturing', 'Scientific, Architectural and Engineering Services'}\n",
    "119\n",
    "```"
   ]
  },
  {
   "cell_type": "markdown",
   "metadata": {},
   "source": [
    "### 3. Create new CSV files containing data only in the same year. Example: 2018.csv, 2017.csv, etc."
   ]
  },
  {
   "cell_type": "code",
   "execution_count": null,
   "metadata": {},
   "outputs": [
    {
     "name": "stdout",
     "output_type": "stream",
     "text": [
      "{'2018', '2017', '2013', '2015', '2014', '2016'}\n"
     ]
    }
   ],
   "source": [
    "import csv\n",
    "unique_years = set()\n",
    "\n",
    "with open (r'C:\\Users\\Aikorkem\\Desktop\\STUDY\\pp2\\labs\\lab6\\annual-enterprise-survey-2018-financial-year-provisional-csv.csv', mode='r') as file:\n",
    "    data=csv.DictReader(file)\n",
    "    for row in data:\n",
    "    # Начало вашего кода \n",
    "        year = row['Year']\n",
    "        unique_years.add(year)\n",
    "    # Конец вашего кода\n",
    "print(unique_years)"
   ]
  },
  {
   "cell_type": "markdown",
   "metadata": {},
   "source": [
    "### Expected result:\n",
    "```\n",
    "{'2013', '2018', '2017', '2014', '2016', '2015'}\n",
    "```"
   ]
  },
  {
   "cell_type": "code",
   "execution_count": null,
   "metadata": {},
   "outputs": [
    {
     "name": "stdout",
     "output_type": "stream",
     "text": [
      "2018.csv is written\n",
      "2017.csv is written\n",
      "2013.csv is written\n",
      "2015.csv is written\n",
      "2014.csv is written\n",
      "2016.csv is written\n"
     ]
    }
   ],
   "source": [
    "for year in unique_years:\n",
    "    with open(\"{}.csv\".format(year), \"w\") as ofile:\n",
    "        # Начало вашего кода \n",
    "\n",
    "        # Конец вашего кода\n",
    "        print(\"{}.csv is written\".format(year))"
   ]
  },
  {
   "cell_type": "markdown",
   "metadata": {},
   "source": [
    "### Expected result:\n",
    "```\n",
    "2013.csv is written\n",
    "2018.csv is written\n",
    "2017.csv is written\n",
    "2014.csv is written\n",
    "2016.csv is written\n",
    "2015.csv is written\n",
    "```"
   ]
  },
  {
   "cell_type": "code",
   "execution_count": null,
   "metadata": {},
   "outputs": [
    {
     "name": "stdout",
     "output_type": "stream",
     "text": [
      "['2013.csv', '2014.csv', '2015.csv', '2016.csv', '2017.csv', '2018.csv']\n"
     ]
    }
   ],
   "source": [
    "import os\n",
    "\n",
    "list_of_files = [file for file in os.listdir(\"./\") if file.endswith(\".csv\")]\n",
    "print(list_of_files)"
   ]
  },
  {
   "cell_type": "markdown",
   "metadata": {},
   "source": [
    "### Expected result:\n",
    "```\n",
    "['2018.csv', '2015.csv', '2014.csv', '2016.csv', '2017.csv', '2013.csv', 'annual-enterprise-survey-2018-financial-year-provisional-csv.csv']\n",
    "```\n",
    "\n",
    "\n",
    "** Please open the CSV files you just created and check whether the year in these files with the file name coincides. **"
   ]
  },
  {
   "cell_type": "markdown",
   "metadata": {},
   "source": [
    "### 4. Additionally: just try to analyze more data from the CSV file using all your knowledge. Example: sorting data on a specific column."
   ]
  },
  {
   "cell_type": "code",
   "execution_count": null,
   "metadata": {},
   "outputs": [
    {
     "name": "stdout",
     "output_type": "stream",
     "text": [
      "['2013', '2014', '2015', '2016', '2017', '2018']\n"
     ]
    }
   ],
   "source": [
    "import csv\n",
    "unique_years = set()\n",
    " \n",
    "with open (r'C:\\Users\\Aikorkem\\Desktop\\STUDY\\pp2\\labs\\lab6\\annual-enterprise-survey-2018-financial-year-provisional-csv.csv', mode='r') as file:\n",
    "    data=csv.DictReader(file)\n",
    "    for row in data:\n",
    "        year=row['Year']\n",
    "        unique_years.add(year)\n",
    "print(sorted(unique_years))"
   ]
  }
 ],
 "metadata": {
  "kernelspec": {
   "display_name": "base",
   "language": "python",
   "name": "python3"
  },
  "language_info": {
   "codemirror_mode": {
    "name": "ipython",
    "version": 3
   },
   "file_extension": ".py",
   "mimetype": "text/x-python",
   "name": "python",
   "nbconvert_exporter": "python",
   "pygments_lexer": "ipython3",
   "version": "3.12.7"
  }
 },
 "nbformat": 4,
 "nbformat_minor": 2
}
