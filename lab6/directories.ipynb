{
 "cells": [
  {
   "cell_type": "code",
   "execution_count": null,
   "metadata": {},
   "outputs": [],
   "source": [
    "#ex1\n",
    "import os\n",
    "\n",
    "def list_items(path):\n",
    "\n",
    "    all_items = os.listdir(path)\n",
    "    full_paths = [os.path.join(path, item) for item in all_items]\n",
    "\n",
    "    directories = [item for item in full_paths if os.path.isdir(item)]\n",
    "    files = [item for item in full_paths if os.path.isfile(item)]\n",
    "\n",
    "    print(\"Directories:\")\n",
    "    for directory in directories:\n",
    "        print(directory)\n",
    "\n",
    "\n",
    "    print(\"Files:\")\n",
    "    for file in files:\n",
    "        print(file)\n",
    "\n",
    "list_items(r\"C:/Users/kmtel/Desktop/GIT/labs/lab6/built_in\")"
   ]
  },
  {
   "cell_type": "code",
   "execution_count": null,
   "metadata": {},
   "outputs": [],
   "source": [
    "#ex2\n",
    "import os\n",
    "\n",
    "def checkPathAccess(path):\n",
    "    if os.path.exists(path):\n",
    "        print(\"Exists:    \",\"|\", os.path.exists(path))\n",
    "        print(\"Readable:  \",'|', os.access(path, os.R_OK))\n",
    "        print(\"Writable:  \",'|', os.access(path, os.W_OK))\n",
    "        print(\"Executable:\",'|', os.access(path, os.X_OK))\n",
    "    else:\n",
    "        print(\"Path is not exist.\")\n",
    "\n",
    "checkPathAccess(r\"C:/Users/kmtel/Desktop/GIT/labs/lab6/built_in\")\n",
    "        "
   ]
  },
  {
   "cell_type": "code",
   "execution_count": null,
   "metadata": {},
   "outputs": [],
   "source": [
    "#ex3\n",
    "import os\n",
    "def checkPathDetails(path):\n",
    "    if os.path.exists(path):\n",
    "        print(f\"Dir name:  {os.path.dirname(path)}\")\n",
    "        print(f\"File name: {os.path.basename(path)}\")\n",
    "        \n",
    "    else:\n",
    "        print(\"Path is not exist.\")\n",
    "checkPathDetails(r\"C:/Users/kmtel/Desktop/GIT/labs/lab6/built_in\")"
   ]
  },
  {
   "cell_type": "code",
   "execution_count": null,
   "metadata": {},
   "outputs": [],
   "source": [
    "#ex4\n",
    "def count_lines_in_file(file_path):\n",
    "    answer = 0\n",
    "    with open(file_path, 'r', encoding='utf-8') as file:\n",
    "        for line in file:\n",
    "            answer += 1\n",
    "        return answer\n",
    "    \n",
    "print(count_lines_in_file(\"C:/Users/kmtel/Desktop/GIT/labs/lab6/built_in\"))     "
   ]
  },
  {
   "cell_type": "code",
   "execution_count": null,
   "metadata": {},
   "outputs": [],
   "source": [
    "#ex5\n",
    "def listToFile(path, data_list):\n",
    "    with open(path, 'w', encoding='utf-8') as file:\n",
    "        for item in data_list:\n",
    "            file.write(item + '\\n')\n",
    "        \n",
    "lst = [\"example\", \"storage\"]\n",
    "listToFile(r\"C:/Users/kmtel/Desktop/GIT/labs/lab6/built_in\", lst)"
   ]
  },
  {
   "cell_type": "code",
   "execution_count": null,
   "metadata": {},
   "outputs": [],
   "source": [
    "#ex6\n",
    "import string\n",
    "\n",
    "for name in string.ascii_uppercase:\n",
    "    fileName = f\"{name}.txt\"\n",
    "    with open(fileName, 'w') as file:\n",
    "        file.write(f\"name\")"
   ]
  },
  {
   "cell_type": "code",
   "execution_count": null,
   "metadata": {},
   "outputs": [],
   "source": [
    "#ex7\n",
    "def copy_file(source, copy):\n",
    "    with open(source, \"r\") as src:\n",
    "        content = src.read()\n",
    "    with open(copy, \"w\") as cp:\n",
    "        cp.write(content)\n",
    "\n",
    "\n",
    "copy_file(\"A.txt\", \"B.txt\")"
   ]
  },
  {
   "cell_type": "code",
   "execution_count": null,
   "metadata": {},
   "outputs": [],
   "source": [
    "#ex8\n",
    "import os\n",
    "\n",
    "def delete(path):\n",
    "    if os.path.exists(path):\n",
    "        if os.access(path, os.W_OK):\n",
    "            os.remove(path)\n",
    "            print(f\"File '{path}' deleted.\")\n",
    "        else:\n",
    "            print(f\"Cannot delete '{path}'.\")\n",
    "    else:\n",
    "        print(f\"File '{path}'is not exist.\")"
   ]
  }
 ],
 "metadata": {
  "kernelspec": {
   "display_name": "Python 3",
   "language": "python",
   "name": "python3"
  },
  "language_info": {
   "codemirror_mode": {
    "name": "ipython",
    "version": 3
   },
   "file_extension": ".py",
   "mimetype": "text/x-python",
   "name": "python",
   "nbconvert_exporter": "python",
   "pygments_lexer": "ipython3",
   "version": "3.12.8"
  }
 },
 "nbformat": 4,
 "nbformat_minor": 2
}
