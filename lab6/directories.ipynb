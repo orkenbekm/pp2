{
 "cells": [
  {
   "cell_type": "markdown",
   "metadata": {},
   "source": [
    "1. Write a Python program to list only directories, files and all directories, files in a specified path."
   ]
  },
  {
   "cell_type": "code",
   "execution_count": null,
   "metadata": {},
   "outputs": [],
   "source": [
    "import os\n",
    "\n",
    "def list_items(path):\n",
    "\n",
    "    all_items = os.listdir(path)\n",
    "    full_paths = [os.path.join(path, item) for item in all_items]\n",
    "\n",
    "    directories = [item for item in full_paths if os.path.isdir(item)]\n",
    "    files = [item for item in full_paths if os.path.isfile(item)]\n",
    "\n",
    "    print(\"Directories:\")\n",
    "    for directory in directories:\n",
    "        print(directory)\n",
    "\n",
    "\n",
    "    print(\"Files:\")\n",
    "    for file in files:\n",
    "        print(file)\n",
    "\n",
    "list_items(r\"C:\\Users\\Aikorkem\\Desktop\\STUDY\\pp2\\labs\\lab6\\builtin_functions.ipynb\")\n"
   ]
  },
  {
   "cell_type": "markdown",
   "metadata": {},
   "source": [
    "2. Write a Python program to check for access to a specified path. Test the existence, readability, writability and executability of the specified path"
   ]
  },
  {
   "cell_type": "code",
   "execution_count": null,
   "metadata": {},
   "outputs": [],
   "source": [
    "import os\n",
    "\n",
    "def checkPathAccess(path):\n",
    "    if os.path.exists(path):\n",
    "        print(\"Exists:    \",\"|\", os.path.exists(path))\n",
    "        print(\"Readable:  \",'|', os.access(path, os.R_OK))\n",
    "        print(\"Writable:  \",'|', os.access(path, os.W_OK))\n",
    "        print(\"Executable:\",'|', os.access(path, os.X_OK))\n",
    "    else:\n",
    "        print(\"Path is not exist.\")\n",
    "\n",
    "checkPathAccess(r\"C:\\Users\\Aikorkem\\Desktop\\STUDY\\pp2\\labs\\lab6\\builtin_functions.ipynb\")\n",
    "        "
   ]
  },
  {
   "cell_type": "markdown",
   "metadata": {},
   "source": [
    "3. Write a Python program to test whether a given path exists or not. If the path exist find the filename and directory portion of the given path."
   ]
  },
  {
   "cell_type": "code",
   "execution_count": null,
   "metadata": {},
   "outputs": [],
   "source": [
    "import os\n",
    "def checkPathDetails(path):\n",
    "    if os.path.exists(path):\n",
    "        print(f\"Dir name:  {os.path.dirname(path)}\")\n",
    "        print(f\"File name: {os.path.basename(path)}\")\n",
    "        \n",
    "    else:\n",
    "        print(\"Path is not exist.\")\n",
    "checkPathDetails(r\"C:\\Users\\Aikorkem\\Desktop\\STUDY\\pp2\\labs\\lab6\\builtin_functions.ipynb\")"
   ]
  },
  {
   "cell_type": "markdown",
   "metadata": {},
   "source": [
    "4. Write a Python program to count the number of lines in a text file."
   ]
  },
  {
   "cell_type": "code",
   "execution_count": null,
   "metadata": {},
   "outputs": [],
   "source": [
    "def count_lines_in_file(file_path):\n",
    "    answer = 0\n",
    "    with open(file_path, 'r', encoding='utf-8') as file:\n",
    "        for line in file:\n",
    "            answer += 1\n",
    "        return answer\n",
    "    \n",
    "print(count_lines_in_file(\"C:\\Users\\Aikorkem\\Desktop\\STUDY\\pp2\\labs\\lab6\\builtin_functions.ipynb\"))     "
   ]
  },
  {
   "cell_type": "markdown",
   "metadata": {},
   "source": [
    "5. Write a Python program to write a list to a file."
   ]
  },
  {
   "cell_type": "code",
   "execution_count": null,
   "metadata": {},
   "outputs": [],
   "source": [
    "def listToFile(path, data_list):\n",
    "    with open(path, 'w', encoding='utf-8') as file:\n",
    "        for item in data_list:\n",
    "            file.write(item + '\\n')\n",
    "        \n",
    "lst = [\"example\", \"storage\"]\n",
    "listToFile(r\"C:\\Users\\Aikorkem\\Desktop\\STUDY\\pp2\\labs\\lab6\\builtin_functions.ipynb\", lst)"
   ]
  },
  {
   "cell_type": "markdown",
   "metadata": {},
   "source": [
    "6. Write a Python program to generate 26 text files named A.txt, B.txt, and so on up to Z.txt"
   ]
  },
  {
   "cell_type": "code",
   "execution_count": null,
   "metadata": {},
   "outputs": [],
   "source": [
    "import string\n",
    "\n",
    "for name in string.ascii_uppercase:\n",
    "    fileName = f\"{name}.txt\"\n",
    "    with open(fileName, 'w') as file:\n",
    "        file.write(f\"name\")"
   ]
  },
  {
   "cell_type": "markdown",
   "metadata": {},
   "source": [
    "7. Write a Python program to copy the contents of a file to another file"
   ]
  },
  {
   "cell_type": "code",
   "execution_count": null,
   "metadata": {},
   "outputs": [],
   "source": [
    "def copy_file(source, copy):\n",
    "    with open(source, \"r\") as src:\n",
    "        content = src.read()\n",
    "    with open(copy, \"w\") as cp:\n",
    "        cp.write(content)\n",
    "\n",
    "\n",
    "copy_file(\"A.txt\", \"B.txt\")"
   ]
  },
  {
   "cell_type": "markdown",
   "metadata": {},
   "source": [
    "8. Write a Python program to delete file by specified path. Before deleting check for access and whether a given path exists or not."
   ]
  },
  {
   "cell_type": "code",
   "execution_count": null,
   "metadata": {},
   "outputs": [],
   "source": [
    "import os\n",
    "\n",
    "def delete(path):\n",
    "    if os.path.exists(path):\n",
    "        if os.access(path, os.W_OK):\n",
    "            os.remove(path)\n",
    "            print(f\"File '{path}' deleted.\")\n",
    "        else:\n",
    "            print(f\"Cannot delete '{path}'.\")\n",
    "    else:\n",
    "        print(f\"File '{path}'is not exist.\")"
   ]
  }
 ],
 "metadata": {
  "kernelspec": {
   "display_name": "Python 3",
   "language": "python",
   "name": "python3"
  },
  "language_info": {
   "codemirror_mode": {
    "name": "ipython",
    "version": 3
   },
   "file_extension": ".py",
   "mimetype": "text/x-python",
   "name": "python",
   "nbconvert_exporter": "python",
   "pygments_lexer": "ipython3",
   "version": "3.12.8"
  }
 },
 "nbformat": 4,
 "nbformat_minor": 2
}
